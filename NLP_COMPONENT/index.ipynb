{
 "cells": [
  {
   "cell_type": "code",
   "execution_count": 32,
   "metadata": {},
   "outputs": [],
   "source": [
    "from doctest import Example\n",
    "import spacy\n",
    "import json \n",
    "import random\n",
    "from spacy.util import minibatch\n",
    "from spacy.training import Example\n",
    "\n",
    "def load_data(file):\n",
    "    with open(file, \"r\", encoding=\"utf-8\") as f:\n",
    "        data = json.load(f)\n",
    "    return (data)\n",
    "\n",
    "def train_spacy(TRAIN_DATA, iterations):\n",
    "    nlp = spacy.blank(\"fr\")\n",
    "    nlp.add_pipe(\"ner\", name=\"from_to_location\")\n",
    "    nlp.get_pipe(\"from_to_location\").add_label(\"FROM_LOC\")\n",
    "    nlp.get_pipe(\"from_to_location\").add_label(\"TO_LOC\")\n",
    "\n",
    "    other_pipes = [pipe for pipe in nlp.pipe_names if pipe != \"from_to_location\"]\n",
    "    with nlp.disable_pipes(*other_pipes):\n",
    "        optimizer = nlp.begin_training()\n",
    "        examples = []\n",
    "        for text, annots in TRAIN_DATA:    \n",
    "            examples.append(Example.from_dict(nlp.make_doc(text), annots))\n",
    "        nlp.initialize(lambda: examples)\n",
    "        for itn in range(iterations):\n",
    "            print(f\"Starting iteration {str(itn)}.\")\n",
    "            random.shuffle(TRAIN_DATA)\n",
    "            losses = {}\n",
    "            for batch in minibatch(examples, size=8):\n",
    "                nlp.update(batch, losses=losses)\n",
    "            print(losses)\n",
    "    return (nlp)\n"
   ]
  },
  {
   "cell_type": "code",
   "execution_count": 33,
   "metadata": {},
   "outputs": [],
   "source": [
    "TRAIN_DATA = load_data(\"data/lang/fr-annotated.json\")\n",
    "random.shuffle(TRAIN_DATA)"
   ]
  },
  {
   "cell_type": "code",
   "execution_count": 48,
   "metadata": {},
   "outputs": [
    {
     "name": "stdout",
     "output_type": "stream",
     "text": [
      "Starting iteration 0.\n",
      "{'from_to_location': 985.2185245658754}\n",
      "Starting iteration 1.\n",
      "{'from_to_location': 250.44565675412548}\n",
      "Starting iteration 2.\n",
      "{'from_to_location': 15.009479746299364}\n",
      "Starting iteration 3.\n",
      "{'from_to_location': 2.0579397564555446}\n",
      "Starting iteration 4.\n",
      "{'from_to_location': 0.672209210526212}\n",
      "['detect_lang', 'from_to_location']\n",
      "<spacy.lang.fr.French object at 0x000001E55739DB88>\n"
     ]
    },
    {
     "name": "stderr",
     "output_type": "stream",
     "text": [
      "Warning : `load_model` does not return WordVectorModel or SupervisedModel any more, but a `FastText` object which is very similar.\n"
     ]
    }
   ],
   "source": [
    "# Train the NER, add the language detector pipe, and save the NLP component to disk\n",
    "from spacy_fastlang import LanguageDetector\n",
    "from spacy.language import Language\n",
    "\n",
    "@Language.factory(\"detect_lang\")\n",
    "def get_lang_detector(nlp, name):\n",
    "    return LanguageDetector()\n",
    "\n",
    "trained = train_spacy(TRAIN_DATA, 5)\n",
    "trained.add_pipe(\"detect_lang\", name=\"detect_lang\", before=\"from_to_location\")\n",
    "trained.to_disk(\"lang_detector_from_to_model\")\n",
    "print(trained.pipe_names)\n",
    "print(trained)"
   ]
  },
  {
   "cell_type": "code",
   "execution_count": 49,
   "metadata": {},
   "outputs": [
    {
     "name": "stdout",
     "output_type": "stream",
     "text": [
      "Haubourdin FROM_LOC\n",
      "fr\n",
      "Loos TO_LOC\n",
      "fr\n"
     ]
    }
   ],
   "source": [
    "doc = trained(\"Je souhaiterais aller de Haubourdin à Loos\")\n",
    "for ent in doc.ents:\n",
    "    print(ent.text, ent.label_)\n",
    "    print(doc._.language)"
   ]
  }
 ],
 "metadata": {
  "kernelspec": {
   "display_name": "Python 3.7.9 ('env_0')",
   "language": "python",
   "name": "python3"
  },
  "language_info": {
   "codemirror_mode": {
    "name": "ipython",
    "version": 3
   },
   "file_extension": ".py",
   "mimetype": "text/x-python",
   "name": "python",
   "nbconvert_exporter": "python",
   "pygments_lexer": "ipython3",
   "version": "3.7.9"
  },
  "orig_nbformat": 4,
  "vscode": {
   "interpreter": {
    "hash": "35143d8492d8450202269d1e8251eeb3c4f0cc21af722a244bcaa5ac9115c439"
   }
  }
 },
 "nbformat": 4,
 "nbformat_minor": 2
}
