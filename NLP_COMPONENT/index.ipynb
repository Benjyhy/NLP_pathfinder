{
 "cells": [
  {
   "cell_type": "code",
   "execution_count": 7,
   "metadata": {},
   "outputs": [],
   "source": [
    "from doctest import Example\n",
    "import spacy\n",
    "import json \n",
    "import random\n",
    "from spacy.util import minibatch\n",
    "from spacy.training import Example\n",
    "\n",
    "def load_data(file):\n",
    "    with open(file, \"r\", encoding=\"utf-8\") as f:\n",
    "        data = json.load(f)\n",
    "    return (data)\n",
    "\n",
    "def train_spacy(TRAIN_DATA, iterations):\n",
    "    nlp = spacy.blank(\"fr\")\n",
    "    nlp.add_pipe(\"ner\", name=\"from_to_location\")\n",
    "    nlp.get_pipe(\"from_to_location\").add_label(\"FROM_LOC\")\n",
    "    nlp.get_pipe(\"from_to_location\").add_label(\"TO_LOC\")\n",
    "\n",
    "    other_pipes = [pipe for pipe in nlp.pipe_names if pipe != \"from_to_location\"]\n",
    "    with nlp.disable_pipes(*other_pipes):\n",
    "        optimizer = nlp.begin_training()\n",
    "        examples = []\n",
    "        for text, annots in TRAIN_DATA:    \n",
    "            examples.append(Example.from_dict(nlp.make_doc(text), annots))\n",
    "        nlp.initialize(lambda: examples)\n",
    "        for itn in range(iterations):\n",
    "            print(f\"Starting iteration {str(itn)}.\")\n",
    "            random.shuffle(TRAIN_DATA)\n",
    "            losses = {}\n",
    "            for batch in minibatch(examples, size=8):\n",
    "                nlp.update(batch, losses=losses)\n",
    "            print(losses)\n",
    "    return (nlp)\n"
   ]
  },
  {
   "cell_type": "code",
   "execution_count": 2,
   "metadata": {},
   "outputs": [],
   "source": [
    "TRAIN_DATA = load_data(\"data/lang/fr-annotated.json\")\n",
    "random.shuffle(TRAIN_DATA)"
   ]
  },
  {
   "cell_type": "code",
   "execution_count": 8,
   "metadata": {},
   "outputs": [
    {
     "name": "stdout",
     "output_type": "stream",
     "text": [
      "Starting iteration 0.\n",
      "{'from_to_location': 986.8641767562799}\n",
      "Starting iteration 1.\n",
      "{'from_to_location': 137.09842827591865}\n",
      "Starting iteration 2.\n",
      "{'from_to_location': 17.463515311726805}\n",
      "Starting iteration 3.\n",
      "{'from_to_location': 3.229296257470024}\n",
      "Starting iteration 4.\n",
      "{'from_to_location': 2.2223147317431224}\n"
     ]
    },
    {
     "name": "stderr",
     "output_type": "stream",
     "text": [
      "Warning : `load_model` does not return WordVectorModel or SupervisedModel any more, but a `FastText` object which is very similar.\n"
     ]
    }
   ],
   "source": [
    "# Train the NER, add the language detector pipe, and save the NLP component to disk\n",
    "\n",
    "import spacy_fastlang\n",
    "\n",
    "trained = train_spacy(TRAIN_DATA, 5)\n",
    "trained.add_pipe(\"language_detector\", before=\"from_to_location\")\n",
    "trained.to_disk(\"pipeline/ner\")"
   ]
  },
  {
   "cell_type": "code",
   "execution_count": 6,
   "metadata": {},
   "outputs": [
    {
     "name": "stdout",
     "output_type": "stream",
     "text": [
      "Haubourdin FROM_LOC\n",
      "fr\n",
      "Loos TO_LOC\n",
      "fr\n"
     ]
    }
   ],
   "source": [
    "doc = trained(\"Je souhaiterais aller de Haubourdin à Loos\")\n",
    "for ent in doc.ents:\n",
    "    print(ent.text, ent.label_)\n",
    "    print(doc._.language)"
   ]
  }
 ],
 "metadata": {
  "kernelspec": {
   "display_name": "Python 3.10.4 64-bit",
   "language": "python",
   "name": "python3"
  },
  "language_info": {
   "codemirror_mode": {
    "name": "ipython",
    "version": 3
   },
   "file_extension": ".py",
   "mimetype": "text/x-python",
   "name": "python",
   "nbconvert_exporter": "python",
   "pygments_lexer": "ipython3",
   "version": "3.10.6"
  },
  "orig_nbformat": 4,
  "vscode": {
   "interpreter": {
    "hash": "916dbcbb3f70747c44a77c7bcd40155683ae19c65e1c03b4aa3499c5328201f1"
   }
  }
 },
 "nbformat": 4,
 "nbformat_minor": 2
}
