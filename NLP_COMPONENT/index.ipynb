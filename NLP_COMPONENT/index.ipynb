{
 "cells": [
  {
   "cell_type": "code",
   "execution_count": 41,
   "metadata": {},
   "outputs": [],
   "source": [
    "from doctest import Example\n",
    "import spacy\n",
    "import json \n",
    "import random\n",
    "from spacy.util import minibatch\n",
    "from spacy.training import Example\n",
    "\n",
    "def load_data(file):\n",
    "    with open(file, \"r\", encoding=\"utf-8\") as f:\n",
    "        data = json.load(f)\n",
    "    return (data)\n",
    "\n",
    "def train_spacy(TRAIN_DATA, iterations):\n",
    "    nlp = spacy.blank(\"fr\")\n",
    "    nlp.add_pipe(\"ner\", name=\"from_to_location\")\n",
    "    nlp.get_pipe(\"from_to_location\").add_label(\"FROM_LOC\")\n",
    "    nlp.get_pipe(\"from_to_location\").add_label(\"TO_LOC\")\n",
    "\n",
    "    other_pipes = [pipe for pipe in nlp.pipe_names if pipe != \"from_to_location\"]\n",
    "    with nlp.disable_pipes(*other_pipes):\n",
    "        optimizer = nlp.begin_training()\n",
    "        examples = []\n",
    "        for text, annots in TRAIN_DATA:    \n",
    "            examples.append(Example.from_dict(nlp.make_doc(text), annots))\n",
    "        nlp.initialize(lambda: examples)\n",
    "        for itn in range(iterations):\n",
    "            print(f\"Starting iteration {str(itn)}.\")\n",
    "            random.shuffle(TRAIN_DATA)\n",
    "            losses = {}\n",
    "            for batch in minibatch(examples, size=8):\n",
    "                nlp.update(batch)\n",
    "            print(losses)\n",
    "    return (nlp)\n"
   ]
  },
  {
   "cell_type": "code",
   "execution_count": 18,
   "metadata": {},
   "outputs": [
    {
     "name": "stdout",
     "output_type": "stream",
     "text": [
      "[\"Trouve moi un trajet en train en partant de Saint-Brisson jusqu'à Villeneuve-Frouville \", {'entities': [[44, 57, 'FROM_LOC'], [66, 86, 'TO_LOC']]}]\n"
     ]
    }
   ],
   "source": [
    "TRAIN_DATA = load_data(\"data/lang/fr-annotated.json\")\n",
    "random.shuffle(TRAIN_DATA)"
   ]
  },
  {
   "cell_type": "code",
   "execution_count": 43,
   "metadata": {},
   "outputs": [
    {
     "name": "stdout",
     "output_type": "stream",
     "text": [
      "Starting iteration 0.\n",
      "{}\n",
      "Starting iteration 1.\n",
      "{}\n",
      "Starting iteration 2.\n",
      "{}\n",
      "Starting iteration 3.\n",
      "{}\n",
      "Starting iteration 4.\n",
      "{}\n"
     ]
    }
   ],
   "source": [
    "trained = train_spacy(TRAIN_DATA, 5)"
   ]
  },
  {
   "cell_type": "code",
   "execution_count": 49,
   "metadata": {},
   "outputs": [
    {
     "name": "stdout",
     "output_type": "stream",
     "text": [
      "Paris en partant de Brest TO_LOC\n"
     ]
    }
   ],
   "source": [
    "doc = trained(\"J'aimerais aller à Paris en partant de Brest\")\n",
    "for ent in doc.ents:\n",
    "    print(ent.text, ent.label_)"
   ]
  }
 ],
 "metadata": {
  "kernelspec": {
   "display_name": "Python 3.10.4 64-bit",
   "language": "python",
   "name": "python3"
  },
  "language_info": {
   "codemirror_mode": {
    "name": "ipython",
    "version": 3
   },
   "file_extension": ".py",
   "mimetype": "text/x-python",
   "name": "python",
   "nbconvert_exporter": "python",
   "pygments_lexer": "ipython3",
   "version": "3.10.6"
  },
  "orig_nbformat": 4,
  "vscode": {
   "interpreter": {
    "hash": "916dbcbb3f70747c44a77c7bcd40155683ae19c65e1c03b4aa3499c5328201f1"
   }
  }
 },
 "nbformat": 4,
 "nbformat_minor": 2
}
