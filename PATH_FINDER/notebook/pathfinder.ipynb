{
 "cells": [
  {
   "cell_type": "code",
   "execution_count": 1,
   "id": "f24b1325",
   "metadata": {},
   "outputs": [],
   "source": [
    "import pandas as pd\n",
    "import numpy as np\n",
    "import networkx as nx\n",
    "import matplotlib.pyplot as plt\n",
    "import re"
   ]
  },
  {
   "cell_type": "code",
   "execution_count": 2,
   "id": "3be89b8f",
   "metadata": {},
   "outputs": [
    {
     "name": "stdout",
     "output_type": "stream",
     "text": [
      "                 trip_id                                             trajet  \\\n",
      "0  OCESN003100F140147152         Gare de Le Havre - Gare de Paris-St-Lazare   \n",
      "1  OCESN003190F040047309           Gare de Dieppe - Gare de Paris-St-Lazare   \n",
      "2  OCESN003198F030037315  Gare de Paris-St-Lazare - Gare de Rouen-Rive-D...   \n",
      "3  OCESN003300F030037323        Gare de Cherbourg - Gare de Paris-St-Lazare   \n",
      "4  OCESN003313F380387526             Gare de Caen - Gare de Paris-St-Lazare   \n",
      "\n",
      "   duree  \n",
      "0    138  \n",
      "1    145  \n",
      "2     97  \n",
      "3    194  \n",
      "4    149  \n"
     ]
    }
   ],
   "source": [
    "datas = pd.read_csv('./timetables.csv', sep='\\t')\n",
    "print(datas.head())"
   ]
  },
  {
   "cell_type": "code",
   "execution_count": 3,
   "id": "0a2f5e42",
   "metadata": {},
   "outputs": [
    {
     "name": "stdout",
     "output_type": "stream",
     "text": [
      "0              Gare de Le Havre\n",
      "1                Gare de Dieppe\n",
      "2       Gare de Paris-St-Lazare\n",
      "3             Gare de Cherbourg\n",
      "4                  Gare de Caen\n",
      "                 ...           \n",
      "1570      Gare de Belfort-Ville\n",
      "1571    Gare de Lons-le-Saunier\n",
      "1572      Gare de Belfort-Ville\n",
      "1573    Gare de Besançon-Viotte\n",
      "1574    Gare de Bourg-en-Bresse\n",
      "Name: 0, Length: 1575, dtype: object 0         Gare de Paris-St-Lazare\n",
      "1         Gare de Paris-St-Lazare\n",
      "2       Gare de Rouen-Rive-Droite\n",
      "3         Gare de Paris-St-Lazare\n",
      "4         Gare de Paris-St-Lazare\n",
      "                  ...            \n",
      "1570        Gare de Lyon-Perrache\n",
      "1571        Gare de Lyon-Perrache\n",
      "1572      Gare de Lons-le-Saunier\n",
      "1573      Gare de Lons-le-Saunier\n",
      "1574             Gare de Mouchard\n",
      "Name: 1, Length: 1575, dtype: object\n"
     ]
    }
   ],
   "source": [
    "s = pd.Series(datas['trajet'])\n",
    "series = s.str.split(r\" - \", expand=True)\n",
    "print(series[0], series[1])"
   ]
  },
  {
   "cell_type": "code",
   "execution_count": 4,
   "id": "bca53a90",
   "metadata": {},
   "outputs": [],
   "source": [
    "departures = series[0]\n",
    "destinations = series[1]\n",
    "datas = datas.join(departures)\n",
    "datas = datas.join(destinations)"
   ]
  },
  {
   "cell_type": "code",
   "execution_count": 5,
   "id": "3d4ab93f",
   "metadata": {},
   "outputs": [
    {
     "data": {
      "text/html": [
       "<div>\n",
       "<style scoped>\n",
       "    .dataframe tbody tr th:only-of-type {\n",
       "        vertical-align: middle;\n",
       "    }\n",
       "\n",
       "    .dataframe tbody tr th {\n",
       "        vertical-align: top;\n",
       "    }\n",
       "\n",
       "    .dataframe thead th {\n",
       "        text-align: right;\n",
       "    }\n",
       "</style>\n",
       "<table border=\"1\" class=\"dataframe\">\n",
       "  <thead>\n",
       "    <tr style=\"text-align: right;\">\n",
       "      <th></th>\n",
       "      <th>trip_id</th>\n",
       "      <th>trajet</th>\n",
       "      <th>weight</th>\n",
       "      <th>departures</th>\n",
       "      <th>destinations</th>\n",
       "    </tr>\n",
       "  </thead>\n",
       "  <tbody>\n",
       "    <tr>\n",
       "      <th>0</th>\n",
       "      <td>OCESN003100F140147152</td>\n",
       "      <td>Gare de Le Havre - Gare de Paris-St-Lazare</td>\n",
       "      <td>138</td>\n",
       "      <td>Gare de Le Havre</td>\n",
       "      <td>Gare de Paris-St-Lazare</td>\n",
       "    </tr>\n",
       "    <tr>\n",
       "      <th>1</th>\n",
       "      <td>OCESN003190F040047309</td>\n",
       "      <td>Gare de Dieppe - Gare de Paris-St-Lazare</td>\n",
       "      <td>145</td>\n",
       "      <td>Gare de Dieppe</td>\n",
       "      <td>Gare de Paris-St-Lazare</td>\n",
       "    </tr>\n",
       "    <tr>\n",
       "      <th>2</th>\n",
       "      <td>OCESN003198F030037315</td>\n",
       "      <td>Gare de Paris-St-Lazare - Gare de Rouen-Rive-D...</td>\n",
       "      <td>97</td>\n",
       "      <td>Gare de Paris-St-Lazare</td>\n",
       "      <td>Gare de Rouen-Rive-Droite</td>\n",
       "    </tr>\n",
       "    <tr>\n",
       "      <th>3</th>\n",
       "      <td>OCESN003300F030037323</td>\n",
       "      <td>Gare de Cherbourg - Gare de Paris-St-Lazare</td>\n",
       "      <td>194</td>\n",
       "      <td>Gare de Cherbourg</td>\n",
       "      <td>Gare de Paris-St-Lazare</td>\n",
       "    </tr>\n",
       "    <tr>\n",
       "      <th>4</th>\n",
       "      <td>OCESN003313F380387526</td>\n",
       "      <td>Gare de Caen - Gare de Paris-St-Lazare</td>\n",
       "      <td>149</td>\n",
       "      <td>Gare de Caen</td>\n",
       "      <td>Gare de Paris-St-Lazare</td>\n",
       "    </tr>\n",
       "    <tr>\n",
       "      <th>...</th>\n",
       "      <td>...</td>\n",
       "      <td>...</td>\n",
       "      <td>...</td>\n",
       "      <td>...</td>\n",
       "      <td>...</td>\n",
       "    </tr>\n",
       "    <tr>\n",
       "      <th>1570</th>\n",
       "      <td>OCESN895822F0500552575</td>\n",
       "      <td>Gare de Belfort-Ville - Gare de Lyon-Perrache</td>\n",
       "      <td>244</td>\n",
       "      <td>Gare de Belfort-Ville</td>\n",
       "      <td>Gare de Lyon-Perrache</td>\n",
       "    </tr>\n",
       "    <tr>\n",
       "      <th>1571</th>\n",
       "      <td>OCESN895830F0200252600</td>\n",
       "      <td>Gare de Lons-le-Saunier - Gare de Lyon-Perrache</td>\n",
       "      <td>103</td>\n",
       "      <td>Gare de Lons-le-Saunier</td>\n",
       "      <td>Gare de Lyon-Perrache</td>\n",
       "    </tr>\n",
       "    <tr>\n",
       "      <th>1572</th>\n",
       "      <td>OCESN895880F0500552634</td>\n",
       "      <td>Gare de Belfort-Ville - Gare de Lons-le-Saunier</td>\n",
       "      <td>144</td>\n",
       "      <td>Gare de Belfort-Ville</td>\n",
       "      <td>Gare de Lons-le-Saunier</td>\n",
       "    </tr>\n",
       "    <tr>\n",
       "      <th>1573</th>\n",
       "      <td>OCESN895940F0200252654</td>\n",
       "      <td>Gare de Besançon-Viotte - Gare de Lons-le-Saunier</td>\n",
       "      <td>89</td>\n",
       "      <td>Gare de Besançon-Viotte</td>\n",
       "      <td>Gare de Lons-le-Saunier</td>\n",
       "    </tr>\n",
       "    <tr>\n",
       "      <th>1574</th>\n",
       "      <td>OCESN895942F0900952655</td>\n",
       "      <td>Gare de Bourg-en-Bresse - Gare de Mouchard</td>\n",
       "      <td>81</td>\n",
       "      <td>Gare de Bourg-en-Bresse</td>\n",
       "      <td>Gare de Mouchard</td>\n",
       "    </tr>\n",
       "  </tbody>\n",
       "</table>\n",
       "<p>1575 rows × 5 columns</p>\n",
       "</div>"
      ],
      "text/plain": [
       "                     trip_id  \\\n",
       "0      OCESN003100F140147152   \n",
       "1      OCESN003190F040047309   \n",
       "2      OCESN003198F030037315   \n",
       "3      OCESN003300F030037323   \n",
       "4      OCESN003313F380387526   \n",
       "...                      ...   \n",
       "1570  OCESN895822F0500552575   \n",
       "1571  OCESN895830F0200252600   \n",
       "1572  OCESN895880F0500552634   \n",
       "1573  OCESN895940F0200252654   \n",
       "1574  OCESN895942F0900952655   \n",
       "\n",
       "                                                 trajet  weight  \\\n",
       "0            Gare de Le Havre - Gare de Paris-St-Lazare     138   \n",
       "1              Gare de Dieppe - Gare de Paris-St-Lazare     145   \n",
       "2     Gare de Paris-St-Lazare - Gare de Rouen-Rive-D...      97   \n",
       "3           Gare de Cherbourg - Gare de Paris-St-Lazare     194   \n",
       "4                Gare de Caen - Gare de Paris-St-Lazare     149   \n",
       "...                                                 ...     ...   \n",
       "1570      Gare de Belfort-Ville - Gare de Lyon-Perrache     244   \n",
       "1571    Gare de Lons-le-Saunier - Gare de Lyon-Perrache     103   \n",
       "1572    Gare de Belfort-Ville - Gare de Lons-le-Saunier     144   \n",
       "1573  Gare de Besançon-Viotte - Gare de Lons-le-Saunier      89   \n",
       "1574         Gare de Bourg-en-Bresse - Gare de Mouchard      81   \n",
       "\n",
       "                   departures               destinations  \n",
       "0            Gare de Le Havre    Gare de Paris-St-Lazare  \n",
       "1              Gare de Dieppe    Gare de Paris-St-Lazare  \n",
       "2     Gare de Paris-St-Lazare  Gare de Rouen-Rive-Droite  \n",
       "3           Gare de Cherbourg    Gare de Paris-St-Lazare  \n",
       "4                Gare de Caen    Gare de Paris-St-Lazare  \n",
       "...                       ...                        ...  \n",
       "1570    Gare de Belfort-Ville      Gare de Lyon-Perrache  \n",
       "1571  Gare de Lons-le-Saunier      Gare de Lyon-Perrache  \n",
       "1572    Gare de Belfort-Ville    Gare de Lons-le-Saunier  \n",
       "1573  Gare de Besançon-Viotte    Gare de Lons-le-Saunier  \n",
       "1574  Gare de Bourg-en-Bresse           Gare de Mouchard  \n",
       "\n",
       "[1575 rows x 5 columns]"
      ]
     },
     "execution_count": 5,
     "metadata": {},
     "output_type": "execute_result"
    }
   ],
   "source": [
    "datas = datas.rename(columns={0: \"departures\", 1: \"destinations\", \"duree\":\"weight\"})\n",
    "datas"
   ]
  },
  {
   "cell_type": "code",
   "execution_count": 6,
   "id": "58272ba8",
   "metadata": {},
   "outputs": [
    {
     "data": {
      "text/plain": [
       "EdgeView([('Gare de Le Havre', 'Gare de Paris-St-Lazare'), ('Gare de Le Havre', 'Gare de Montivilliers'), ('Gare de Le Havre', 'Gare de Rolleville'), ('Gare de Le Havre', 'Gare de Fécamp'), ('Gare de Le Havre', 'Gare de Rouen-Rive-Droite'), ('Gare de Paris-St-Lazare', 'Gare de Dieppe'), ('Gare de Paris-St-Lazare', 'Gare de Rouen-Rive-Droite'), ('Gare de Paris-St-Lazare', 'Gare de Cherbourg'), ('Gare de Paris-St-Lazare', 'Gare de Caen'), ('Gare de Paris-St-Lazare', 'Gare de Trouville-Deauville'), ('Gare de Paris-St-Lazare', 'Gare de Vernon-Giverny'), ('Gare de Paris-St-Lazare', 'Gare de Oissel'), ('Gare de Paris-St-Lazare', 'Gare de Serquigny'), ('Gare de Dieppe', 'Gare de Rouen-Rive-Droite'), ('Gare de Rouen-Rive-Droite', 'Gare de Caen'), ('Gare de Rouen-Rive-Droite', 'Gare de Mantes-la-Jolie'), ('Gare de Rouen-Rive-Droite', 'Gare de Amiens'), ('Gare de Rouen-Rive-Droite', 'Gare de Lille Flandres'), ('Gare de Rouen-Rive-Droite', 'Gare de Yvetot'), ('Gare de Cherbourg', 'Gare de Caen'), ('Gare de Caen', 'Gare de Le Mans'), ('Gare de Caen', 'Gare de Tours'), ('Gare de Caen', 'Gare de Rennes'), ('Gare de Caen', 'Gare de Lisieux'), ('Gare de Caen', 'Gare de Coutances'), ('Gare de Caen', 'Gare de St-Lô'), ('Gare de Caen', 'Gare de Dol'), ('Gare de Caen', 'Gare de Granville'), ('Gare de Caen', 'Gare de Alençon'), ('Gare de Caen', 'Gare de Argentan'), ('Gare de Trouville-Deauville', 'Gare de Lisieux'), ('Gare de Trouville-Deauville', 'Gare de Dives-Cabourg'), ('Gare de Granville', 'Gare de Paris-Montp.3-Vaug.'), ('Gare de Granville', 'Gare de Paris-Montparnasse 1-2'), ('Gare de Granville', 'Gare de Dreux'), ('Gare de Granville', 'Gare de Lison'), ('Gare de Granville', 'Gare de Coutances'), ('Gare de Granville', 'Vire-Centre'), ('Gare de Granville', 'Gare de Rennes'), ('Gare de Granville', 'Gare de Dol'), ('Gare de Granville', 'Gare de Argentan'), ('Gare de Paris-Montp.3-Vaug.', 'Gare de Argentan'), ('Gare de Paris-Montparnasse 1-2', 'Gare de Le Mans'), ('Gare de Paris-Montparnasse 1-2', 'Gare de Nogent-le-Rotrou'), ('Gare de Paris-Montparnasse 1-2', 'Gare de Chartres'), ('Gare de Dreux', 'Gare de Argentan'), ('Gare de Dreux', \"Gare de L'Aigle\"), ('Gare de Bourges', 'Gare de Paris-Austerlitz'), ('Gare de Bourges', 'Gare de Paris-Bercy'), ('Gare de Bourges', 'Gare de Nevers'), ('Gare de Bourges', 'Gare de St-Amand-Montrond-Orval'), ('Gare de Bourges', 'Châteauroux Gare Rout.'), ('Gare de Bourges', 'Issoudun-Place-de-la-G.'), ('Gare de Bourges', 'Gare de Vierzon'), ('Gare de Bourges', 'Gare de Montluçon-Ville'), ('Gare de Bourges', 'Gare de Tours'), ('Gare de Bourges', 'Gare de Commentry'), ('Gare de Bourges', 'Gare de Orléans'), ('Gare de Paris-Austerlitz', 'Gare de Vierzon'), ('Gare de Paris-Austerlitz', 'Gare de Nevers'), ('Gare de Paris-Austerlitz', 'Gare de Orléans'), ('Gare de Paris-Austerlitz', 'Gare de Tours'), ('Gare de Paris-Austerlitz', 'Gare de Aubrais-(les)'), ('Gare de Paris-Austerlitz', 'Gare de St-Pierre-des-Corps'), ('Gare de Paris-Austerlitz', 'Gare de Vendôme'), ('Gare de Paris-Austerlitz', 'Gare de Châteaudun'), ('Gare de Vierzon', 'Gare de Montluçon-Ville'), ('Gare de Vierzon', 'Issoudun-Place-de-la-G.'), ('Gare de Vierzon', 'Gare de Issoudun'), ('Gare de Vierzon', 'Romorantin-BA-G.R.'), ('Gare de Vierzon', 'Gare de Châteauroux'), ('Gare de Vierzon', 'Gare de Argenton-sur-Creuse'), ('Gare de Vierzon', 'Gare de Tours'), ('Gare de Vierzon', 'Gare de Orléans'), ('Gare de Vierzon', 'Gare de Nevers'), ('Gare de Vierzon', 'Gare de Limoges-Bénédictins'), ('Gare de Paris-Bercy', 'Gare de Nevers'), ('Gare de Paris-Bercy', 'Gare de Tours'), ('Gare de Paris-Bercy', 'Gare de Orléans'), ('Gare de Paris-Bercy', 'Gare de Dijon-Ville'), ('Gare de Paris-Bercy', 'Gare de Lyon-Part-Dieu'), ('Gare de Paris-Bercy', 'Gare de Mâcon-Ville'), ('Gare de Paris-Bercy', 'Gare de Lyon-Perrache'), ('Gare de Paris-Bercy', 'Gare de Vendôme'), ('Gare de Paris-Bercy', 'Gare de Laroche-Migennes'), ('Gare de Paris-Bercy', 'Gare de Corbigny'), ('Gare de Paris-Bercy', 'Gare de Auxerre-St-Gervais'), ('Gare de Paris-Bercy', 'Gare de Clamecy'), ('Gare de Paris-Bercy', 'Gare de Avallon'), ('Gare de Nevers', 'Gare de Paris-Gare-de-Lyon'), ('Gare de Nevers', 'Gare de Lyon-Perrache'), ('Gare de Nevers', 'Gare de Dijon-Ville'), ('Gare de Nevers', 'Gare de Decize'), ('Gare de Nevers', 'Gare de Luzy(Nièvre)'), ('Gare de Nevers', 'Gare de Cercy-la-Tour'), ('Gare de Nevers', 'Gare de Moulins-sur-Allier'), ('Gare de Nevers', 'Gare de St-Pierre-le-Moûtier'), ('Gare de Nevers', 'Gare de Nevers-Le-Banlay'), ('Gare de Nevers', 'Gare de Tours'), ('Gare de Nevers', 'Gare de Orléans'), ('Gare de Nevers', 'Gare de Clermont-Ferrand'), ('Gare de Nevers', 'Gare de Vic-le-Comte'), ('Gare de Nevers', 'Gare de Autun'), ('Gare de Nevers', 'Gare de Cosne-sur-Loire'), ('Gare de Paris-Gare-de-Lyon', 'Gare de Dijon-Ville'), ('Gare de Paris-Gare-de-Lyon', 'Gare de Lyon-Part-Dieu'), ('Gare de Paris-Gare-de-Lyon', 'Gare de Mâcon-Ville'), ('Gare de Paris-Gare-de-Lyon', 'Gare de Lyon-Perrache'), ('Gare de Paris-Gare-de-Lyon', 'Gare de Châteaudun'), ('Gare de Paris-Gare-de-Lyon', 'Gare de Vendôme'), ('Gare de Paris-Gare-de-Lyon', 'Gare de Laroche-Migennes'), ('Gare de Paris-Gare-de-Lyon', 'Gare de Montereau'), ('Gare de Paris-Gare-de-Lyon', 'Gare de Corbigny'), ('Gare de Paris-Gare-de-Lyon', 'Gare de Clamecy'), ('Gare de Paris-Gare-de-Lyon', 'Gare de Avallon'), ('Gare de Paris-Gare-de-Lyon', 'Gare de Auxerre-St-Gervais'), ('Gare de Argentan', 'Gare de Flers'), ('Gare de Argentan', 'Bagnoles- Orne Egl.Mad.'), ('Gare de Orléans', 'Gare de Tours'), ('Gare de Orléans', 'Gare de Nantes'), ('Gare de Orléans', 'Gare de Le Croisic'), ('Gare de Orléans', 'Gare de Blois-Chambord'), ('Gare de Orléans', 'Gare de St-Pierre-des-Corps'), ('Gare de Orléans', 'Gare de Argenton-sur-Creuse'), ('Gare de Orléans', 'Gare de Châteauroux'), ('Gare de Orléans', 'Gare de Limoges-Bénédictins'), ('Gare de Tours', 'Gare de Blois-Chambord'), ('Gare de Tours', 'Gare de Lyon-Perrache'), ('Gare de Tours', 'Gare de Chinon'), ('Gare de Tours', 'Chinon-Lycée-Rabelais'), ('Gare de Tours', 'St Christophe / Nais C.'), ('Gare de Tours', 'Gare de Château-du-Loir'), ('Gare de Tours', 'Gare de Loches'), ('Gare de Tours', 'Châteauroux Gare Rout.'), ('Gare de Tours', 'Reignac-Bourg-Du-Fau'), ('Gare de Tours', 'Loches-LEP'), ('Gare de Tours', 'Gare de Cormery'), ('Gare de Tours', 'Chatillon-Mail'), ('Gare de Tours', 'Chartres-Gare-Routière'), ('Gare de Tours', 'Gare de Vendôme'), ('Gare de Tours', 'Gare de Châteaudun'), ('Gare de Tours', 'Gare de St-Pierre-des-Corps'), ('Gare de Tours', 'Gare de Port-de-Piles'), ('Gare de Tours', 'Gare de Port-Boulet'), ('Gare de Tours', 'Gare de Aubrais-(les)'), ('Gare de Tours', 'Gare de Le Mans'), ('Gare de Tours', 'Gare de Alençon'), ('Gare de Tours', 'Gare de Le Croisic'), ('Gare de Tours', 'Gare de Nantes'), ('Gare de Tours', 'Gare de Angers-St-Laud'), ('Gare de Tours', 'Gare de Saumur'), ('Gare de Tours', 'Gare de Thouars'), ('Gare de Tours', 'Gare de Bressuire'), ('Gare de Tours', 'Gare de Reignac'), ('Gare de Tours', 'Gare de Voves'), ('Gare de Tours', 'Gare de Bléré-la-Croix'), ('Gare de Tours', 'Gare de St-Aignan-Noyers'), ('Gare de Tours', 'Gare de Poitiers'), ('Gare de Tours', 'Gare de La Roche-sur-Yon'), ('Gare de Aubrais-(les)', 'Gare de Cosne-sur-Loire'), ('Gare de Aubrais-(les)', 'Gare de Toury'), ('Gare de Aubrais-(les)', 'Gare de Château-Gaillard'), ('Gare de Calais Ville', 'Gare de Paris Gare du Nord'), ('Gare de Calais Ville', 'Gare de Amiens'), ('Gare de Calais Ville', 'Gare de Boulogne Ville'), ('Gare de Calais Ville', 'Gare de Calais Fréthun'), ('Gare de Calais Ville', 'Gare de Hazebrouck'), ('Gare de Calais Ville', 'Gare de Rang du Fl. Verton Ber.'), ('Gare de Calais Ville', 'Gare de Etaples Le Touquet'), ('Gare de Calais Ville', 'Gare de Lille Europe'), ('Gare de Calais Ville', 'Gare de Dunkerque'), ('Gare de Calais Ville', 'Gare de Lille Flandres'), ('Gare de Calais Ville', 'Gare de Arras'), ('Gare de Paris Gare du Nord', 'Gare de Boulogne Ville'), ('Gare de Paris Gare du Nord', 'Gare de Amiens'), ('Gare de Paris Gare du Nord', 'Gare de Cambrai Ville'), ('Gare de Paris Gare du Nord', 'Gare de Maubeuge'), ('Gare de Paris Gare du Nord', 'Gare de St Quentin'), ('Gare de Paris Gare du Nord', 'Gare de Beauvais-Gare-SNCF'), ('Gare de Paris Gare du Nord', 'Gare de Persan-Beaumont'), ('Gare de Paris Gare du Nord', 'Gare de Creil'), ('Gare de Paris Gare du Nord', 'Gare de Compiègne'), ('Gare de Paris Gare du Nord', 'Gare de Tergnier'), ('Gare de Paris Gare du Nord', 'Gare de St-Just-SNCF'), ('Gare de Paris Gare du Nord', \"Gare de Clermont-de-l'Oise\"), ('Gare de Paris Gare du Nord', 'Gare de Laon'), ('Gare de Boulogne Ville', 'Gare de Amiens'), ('Gare de Boulogne Ville', 'Gare de Abbeville'), ('Gare de Boulogne Ville', 'Gare de Calais Fréthun'), ('Gare de Boulogne Ville', 'Gare de Lille Europe'), ('Gare de Amiens', 'Gare de Albert'), ('Gare de Amiens', 'Gare de Arras'), ('Gare de Amiens', 'Gare de Abbeville'), ('Gare de Amiens', 'Gare de Lille Flandres'), ('Gare de Amiens', 'Gare de Douai'), ('Gare de Amiens', 'Gare de Tergnier'), ('Gare de Amiens', 'Gare de St Quentin'), ('Gare de Amiens', 'Gare de St-Just-SNCF'), ('Gare de Amiens', 'Gare de Creil'), ('Gare de Amiens', 'Gare de Dunkerque'), ('Gare de Amiens', 'Gare de Compiègne'), ('Gare de Amiens', 'Gare de Laon'), ('Gare de Amiens', 'Gare de Abancourt'), ('Gare de Cambrai Ville', 'Gare de St Quentin'), ('Gare de Cambrai Ville', 'Gare de Valenciennes'), ('Gare de Cambrai Ville', 'Gare de Douai'), ('Gare de Cambrai Ville', 'Gare de Lille Flandres'), ('Gare de Maubeuge', 'Gare de Compiègne'), ('Gare de Maubeuge', 'Gare de Namur'), ('Gare de Maubeuge', 'Gare de Aulnoye Aymeries'), ('Gare de Maubeuge', 'Gare de St Quentin'), ('Gare de Maubeuge', 'Gare de Jeumont'), ('Gare de Maubeuge', 'Gare de Charleroi Sud'), ('Gare de Maubeuge', 'Gare de Valenciennes'), ('Gare de Maubeuge', 'Gare de Busigny'), ('Gare de Maubeuge', 'Gare de Lille Flandres'), ('Gare de St Quentin', 'Gare de Busigny'), ('Gare de St Quentin', 'Gare de Compiègne'), ('Gare de St Quentin', 'Gare de Tergnier'), ('Gare de St Quentin', 'Gare de Aulnoye Aymeries'), ('Gare de St Quentin', 'Gare de Lille Flandres'), ('Gare de St Quentin', 'Gare de Douai'), ('Gare de St Quentin', 'Gare de Creil'), ('Gare de Compiègne', 'Gare de Ribécourt'), ('Gare de Compiègne', 'Gare de Tergnier'), ('Gare de Compiègne', 'Gare de Creil'), ('Gare de Le Mans', 'Gare de Chartres'), ('Gare de Le Mans', 'Gare de Nogent-le-Rotrou'), ('Gare de Le Mans', 'Gare de Connerré-Beillé'), ('Gare de Le Mans', 'Gare de Laval'), ('Gare de Le Mans', 'Gare de Château-du-Loir'), ('Gare de Le Mans', 'Gare de Alençon'), ('Gare de Le Mans', 'Gare de Nantes'), ('Gare de Le Mans', 'Gare de Le Croisic'), ('Gare de Le Mans', 'Gare de Angers-St-Laud'), ('Gare de Le Mans', 'Gare de Sablé-sur-Sarthe'), ('Gare de Le Mans', 'Gare de Rennes'), ('Gare de Nogent-le-Rotrou', 'Gare de Chartres'), ('Gare de Chartres', 'Gare de Brou'), ('Gare de Chartres', 'Droué (Centre)'), ('Gare de Chartres', 'Gare de La Verrière'), ('Gare de Chartres', 'Gare de Versailles-Chantiers'), ('Gare de Chartres', 'Gare de Courtalain-St-Pellerin'), ('Gare de Chartres', 'Gare de Voves'), ('Gare de Chartres', 'Gare de Angers-St-Laud'), ('Gare de Blois-Chambord', 'Gare de Limeray'), ('Gare de Lyon-Perrache', 'Gare de Dijon-Ville'), ('Gare de Lyon-Perrache', 'Gare de Paray-le-Monial'), ('Gare de Lyon-Perrache', 'Gare de Clermont-Ferrand'), ('Gare de Lyon-Perrache', 'Gare de Mâcon-Ville'), ('Gare de Lyon-Perrache', 'Gare de Valence-Ville'), ('Gare de Lyon-Perrache', 'Gare de Avignon-Centre'), ('Gare de Lyon-Perrache', 'Gare de Firminy'), ('Gare de Lyon-Perrache', 'Gare de St-Etienne-Châteaucreux'), ('Gare de Lyon-Perrache', 'Gare de Givors-Ville'), ('Gare de Lyon-Perrache', 'Gare de Oyonnax'), ('Gare de Lyon-Perrache', 'Gare de Bourg-en-Bresse'), ('Gare de Lyon-Perrache', 'Gare de Roanne'), ('Gare de Lyon-Perrache', 'Gare de Vienne'), ('Gare de Lyon-Perrache', 'Gare de Villefranche-sur-Saône'), ('Gare de Lyon-Perrache', 'Gare de St-André-le-Gaz'), ('Gare de Lyon-Perrache', 'Gare de Bourgoin-Jallieu'), ('Gare de Lyon-Perrache', 'Gare de Sathonay-Rillieux'), ('Gare de Lyon-Perrache', 'Gare de Besançon-Viotte'), ('Gare de Lyon-Perrache', 'Gare de Mouchard'), ('Gare de Lyon-Perrache', 'Gare de Belfort-Ville'), ('Gare de Lyon-Perrache', 'Gare de Lons-le-Saunier'), ('Gare de Latour-de-Carol-Enveitg', 'Gare de Villefranche-Vernet-l.B'), ('Gare de Latour-de-Carol-Enveitg', 'Gare de Toulouse-Matabiau'), ('Gare de Latour-de-Carol-Enveitg', 'Gare de Foix'), ('Gare de Villefranche-Vernet-l.B', 'Gare de Font-Romeu-Odeillo-Via'), ('Gare de Villefranche-Vernet-l.B', 'Gare de Perpignan'), ('Gare de Briançon', 'Gare de Romans-Bourg-de-Péage'), ('Gare de Briançon', 'Gare de Veynes-Dévoluy'), ('Gare de Briançon', 'Gare de Gap'), ('Gare de Briançon', 'Gare de Valence-Ville'), ('Gare de Briançon', 'Gare de Marseille-St-Charles'), ('Gare de Romans-Bourg-de-Péage', 'Gare de Veynes-Dévoluy'), ('Gare de Romans-Bourg-de-Péage', 'Gare de Gap'), ('Gare de Romans-Bourg-de-Péage', 'Gare de Die'), ('Gare de Veynes-Dévoluy', 'Gare de Valence-TGV'), ('Gare de Veynes-Dévoluy', 'Valence-Gare-Routière'), ('Gare de Veynes-Dévoluy', 'Gare de Clelles-Mens'), ('Gare de Veynes-Dévoluy', 'Gare de Gap'), ('Gare de Veynes-Dévoluy', 'Gare de Grenoble'), ('Gare de Gap', 'Gare de Marseille-St-Charles'), ('Gare de Gap', 'Grenoble-Gare-Routière'), ('Gare de Gap', 'Gare de Clelles-Mens'), ('Gare de Gap', 'Gare de Grenoble'), ('Gare de Valence-Ville', 'Gare de Grenoble'), ('Gare de Valence-Ville', 'Gare de Chambéry-Chal.-les-Eaux'), ('Gare de Valence-Ville', 'Gare de Annecy'), ('Gare de Valence-Ville', 'Gare de Genève'), ('Gare de Valence-Ville', 'Gare de Grenoble U.-Gières'), ('Gare de Valence-Ville', 'Gare de St-Marcellin'), ('Gare de Valence-Ville', 'Gare de Lyon-Part-Dieu'), ('Gare de Valence-Ville', 'Gare de Mâcon-Ville'), ('Gare de Valence-Ville', 'Gare de Marseille-St-Charles'), ('Gare de Valence-Ville', 'Gare de Avignon-Centre'), ('Gare de Marseille-St-Charles', 'Gare de Aix-en-Provence'), ('Gare de Marseille-St-Charles', 'Gare de Nice-Ville'), ('Gare de Marseille-St-Charles', 'Gare de Les Arcs-Draguignan'), ('Gare de Marseille-St-Charles', 'Gare de Lyon-Part-Dieu'), ('Gare de Marseille-St-Charles', 'Gare de Avignon-Centre'), ('Gare de Marseille-St-Charles', 'Gare de Toulon'), ('Gare de Marseille-St-Charles', 'Aix-Gare-Routière'), ('Gare de Marseille-St-Charles', 'Gare de Sisteron'), ('Gare de Marseille-St-Charles', 'Gare de Martigues'), ('Gare de Marseille-St-Charles', 'Gare de Béziers'), ('Gare de Marseille-St-Charles', 'Gare de Narbonne'), ('Gare de Marseille-St-Charles', 'Gare de Montpellier-Saint-Roch'), ('Gare de Marseille-St-Charles', 'Gare de Miramas'), ('Gare de Marseille-St-Charles', 'Gare de Avignon-TGV'), ('Gare de Marseille-St-Charles', 'Gare de Cavaillon'), ('Gare de Marseille-St-Charles', 'Gare de Gardanne'), ('Gare de Marseille-St-Charles', 'Gare de Manosque-Gréoux'), ('Gare de Marseille-St-Charles', 'Gare de Aubagne'), ('Gare de Marseille-St-Charles', 'Gare de Hyères'), ('Gare de Marseille-St-Charles', 'Gare de Menton'), ('Gare de Aix-en-Provence', 'Gare de Manosque-Gréoux'), ('Gare de Nice-Ville', 'Gare de Tende'), ('Gare de Nice-Ville', 'Gare de Breil-sur-Roya'), ('Gare de Nice-Ville', 'Gare de Ventimiglia-Stazione'), ('Gare de Nice-Ville', 'Gare de Grasse'), ('Gare de Nice-Ville', 'Gare de Menton'), ('Gare de Nice-Ville', 'Gare de Monaco-Monte-Carlo'), ('Gare de Nice-Ville', 'Gare de Sospel'), ('Gare de Nice-Ville', \"Gare de Touet-de-l'Escarène\"), ('Gare de Les Arcs-Draguignan', 'Gare de Ventimiglia-Stazione'), ('Gare de Les Arcs-Draguignan', 'Gare de Menton'), ('Gare de Les Arcs-Draguignan', 'Gare de St-Raphaël-Valescure'), ('Gare de Les Arcs-Draguignan', 'Gare de Cannes'), ('Gare de Les Arcs-Draguignan', 'Gare de Toulon'), ('Gare de Grenoble', 'Gare de Annecy'), ('Gare de Grenoble', 'Gare de Lyon-Part-Dieu'), ('Gare de Grenoble', 'Gare de Genève'), ('Gare de Grenoble', 'Gare de Chambéry-Chal.-les-Eaux'), ('Gare de Grenoble', 'Gare de St-Marcellin'), ('Gare de Grenoble', 'Gare de St-André-le-Gaz'), ('Gare de Grenoble', 'Gare de Rives'), ('Gare de Grenoble', 'Gare de Clelles-Mens'), ('Gare de Chambéry-Chal.-les-Eaux', 'Gare de Annecy'), ('Gare de Chambéry-Chal.-les-Eaux', 'Gare de Lyon-Part-Dieu'), ('Gare de Chambéry-Chal.-les-Eaux', 'Gare de Bourgoin-Jallieu'), ('Gare de Chambéry-Chal.-les-Eaux', 'Lyon-Part-Dieu-Gare-Rou'), ('Gare de Chambéry-Chal.-les-Eaux', 'Grenoble-Gare-Routière'), ('Gare de Chambéry-Chal.-les-Eaux', 'Gare de Cluses (Hte-Savoie)'), ('Gare de Chambéry-Chal.-les-Eaux', 'Gare de St-Gervais-L-B-Le-Fayet'), ('Gare de Chambéry-Chal.-les-Eaux', 'Gare de Annemasse'), ('Gare de Chambéry-Chal.-les-Eaux', 'Gare de Chamonix-Mont-Blanc'), ('Gare de Chambéry-Chal.-les-Eaux', 'Bourg-en-Bresse Gare R'), ('Gare de Chambéry-Chal.-les-Eaux', 'Gare de Evian-les-Bains'), ('Gare de Chambéry-Chal.-les-Eaux', 'Gare de Thonon-les-Bains'), ('Gare de Chambéry-Chal.-les-Eaux', 'Gare de Bonneville'), ('Gare de Chambéry-Chal.-les-Eaux', 'Gare de Bourg-St-Maurice'), ('Gare de Chambéry-Chal.-les-Eaux', 'Gare de Pont-de-Beauvoisin'), ('Gare de Chambéry-Chal.-les-Eaux', 'Gare de St-André-le-Gaz'), ('Gare de Chambéry-Chal.-les-Eaux', 'Gare de La Tour-du-Pin'), ('Gare de Chambéry-Chal.-les-Eaux', 'Gare de Aix-les-Bains-le-Revard'), ('Gare de Chambéry-Chal.-les-Eaux', 'Gare de Modane'), ('Gare de Chambéry-Chal.-les-Eaux', 'Gare de Epierre-St-Léger'), ('Gare de Chambéry-Chal.-les-Eaux', 'Gare de Culoz'), ('Gare de Chambéry-Chal.-les-Eaux', 'Gare de Moûtiers-Salins-Brides'), ('Gare de Chambéry-Chal.-les-Eaux', 'Gare de Ambérieu-en-Bugey'), ('Gare de Chambéry-Chal.-les-Eaux', 'Gare de Rives'), ('Gare de Annecy', 'Gare de Avignon-Centre'), ('Gare de Annecy', 'Gare de Genève'), ('Gare de Annecy', 'Gare de Coppet'), ('Gare de Annecy', 'Lyon-Part-Dieu-Gare-Rou'), ('Gare de Annecy', 'Gare de Aix-les-Bains-le-Revard'), ('Gare de Annecy', 'Gare de Chamonix-Mont-Blanc'), ('Gare de Annecy', 'Gare de Annemasse'), ('Gare de Annecy', 'Gare de Albens'), ('Gare de Annecy', 'Gare de Rumilly'), ('Gare de Annecy', 'Gare de La Roche-sur-Foron'), ('Gare de Annecy', 'Gare de St-Gervais-L-B-Le-Fayet'), ('Gare de Avignon-Centre', 'Gare de Lyon-Part-Dieu'), ('Gare de Avignon-Centre', 'Gare de Port-Bou'), ('Gare de Avignon-Centre', 'Gare de Miramas'), ('Gare de Avignon-Centre', 'Gare de Sète'), ('Gare de Avignon-Centre', 'Gare de Montpellier-Saint-Roch'), ('Gare de Avignon-Centre', 'Gare de Narbonne'), ('Gare de Avignon-Centre', 'Gare de Nîmes'), ('Gare de Avignon-Centre', 'Gare de Perpignan'), ('Gare de Avignon-Centre', 'Gare de Cerbère'), ('Gare de Avignon-Centre', 'Gare de Orange'), ('Gare de Avignon-Centre', 'Gare de Avignon-TGV'), ('Gare de Avignon-Centre', 'Gare de Carpentras'), ('Gare de Avignon-Centre', 'Gare de Mâcon-Ville'), ('Gare de Lyon-Part-Dieu', 'Gare de Sens'), ('Gare de Lyon-Part-Dieu', 'Gare de Dijon-Ville'), ('Gare de Lyon-Part-Dieu', 'Gare de Bourg-St-Maurice'), ('Gare de Lyon-Part-Dieu', 'Gare de Modane'), ('Gare de Lyon-Part-Dieu', 'Gare de Aix-les-Bains-le-Revard'), ('Gare de Lyon-Part-Dieu', 'Gare de Genève'), ('Gare de Lyon-Part-Dieu', 'Gare de St-Gervais-L-B-Le-Fayet'), ('Gare de Lyon-Part-Dieu', 'Gare de Mâcon-Ville'), ('Gare de Lyon-Part-Dieu', 'Gare de Bourg-en-Bresse'), ('Gare de Lyon-Part-Dieu', 'Gare de St-Etienne-Châteaucreux'), ('Gare de Lyon-Part-Dieu', 'Gare de Givors-Ville'), ('Gare de Lyon-Part-Dieu', 'Gare de Ambérieu-en-Bugey'), ('Gare de Lyon-Part-Dieu', 'Gare de Mouchard'), ('Gare de Lyon-Part-Dieu', 'Gare de Besançon-Viotte'), ('Gare de Lyon-Part-Dieu', 'Gare de Belfort-Ville'), ('Gare de Dijon-Ville', 'Gare de Mâcon-Ville'), ('Gare de Dijon-Ville', 'Gare de Neuilly-lès-Dijon'), ('Gare de Dijon-Ville', 'Gare de Laroche-Migennes'), ('Gare de Dijon-Ville', 'Gare de Is-sur-Tille'), ('Gare de Dijon-Ville', 'Gare de Seurre'), ('Gare de Dijon-Ville', 'Gare de Besançon-Viotte'), ('Gare de Dijon-Ville', 'Gare de Les Laumes-Alésia'), ('Gare de Dijon-Ville', 'Gare de Troyes'), ('Gare de Dijon-Ville', 'Gare de Neufchâteau'), ('Gare de Dijon-Ville', 'Gare de Nancy-Ville'), ('Gare de Dijon-Ville', 'Gare de Paris-Est'), ('Gare de Dijon-Ville', 'Gare de Culmont-Chalindrey'), ('Gare de Dijon-Ville', 'Gare de Reims'), ('Gare de Dijon-Ville', 'Gare de St-Dizier'), ('Gare de Dijon-Ville', 'Gare de Clermont-Ferrand'), ('Gare de Dijon-Ville', 'Gare de Moulins-sur-Allier'), ('Gare de Dijon-Ville', 'Gare de Auxerre-St-Gervais'), ('Gare de Dijon-Ville', 'Gare de Chalon-sur-Saône'), ('Gare de Dijon-Ville', 'Gare de Bourg-en-Bresse'), ('Gare de Dijon-Ville', 'Gare de Montchanin'), ('Gare de Dijon-Ville', 'Gare de Le Creusot'), ('Gare de Dijon-Ville', 'Gare de Autun'), ('Gare de Dijon-Ville', 'Gare de Dole-Ville'), ('Gare de Mâcon-Ville', 'Lyon-Part-Dieu-Gare-Rou'), ('Gare de Mâcon-Ville', 'Bourg-en-Bresse Gare R'), ('Gare de Mâcon-Ville', 'Gare de Ambérieu-en-Bugey'), ('Gare de Mâcon-Ville', 'Gare de Bourg-en-Bresse'), ('Gare de Mâcon-Ville', 'Gare de Pierrelatte'), ('Gare de Mâcon-Ville', 'Gare de Vienne'), ('Gare de Mâcon-Ville', 'Gare de Chalon-sur-Saône'), ('Gare de Bourg-St-Maurice', 'Gare de Bourgoin-Jallieu'), ('Gare de Bourg-St-Maurice', 'Grenoble-Gare-Routière'), ('Gare de Bourg-St-Maurice', 'Gare de Moûtiers-Salins-Brides'), ('Gare de Bourg-St-Maurice', 'Gare de Aix-les-Bains-le-Revard'), ('Gare de Bourgoin-Jallieu', 'Gare de Albertville'), ('Gare de Bourgoin-Jallieu', 'Lyon-Part-Dieu-Gare-Rou'), ('Gare de Albertville', 'Gare de Moûtiers-Salins-Brides'), ('Gare de La Chaux-de-Fonds', 'Gare de Morteau'), ('Gare de La Chaux-de-Fonds', 'Gare de Besançon-Viotte'), ('Gare de La Chaux-de-Fonds', 'Gare de Besançon-Mouillère'), ('Gare de Morteau', 'Gare de Besançon-Viotte'), ('Gare de Morteau', 'Gare de Le Locle'), ('Gare de Morteau', 'Gare de Le Valdahon'), ('Gare de Morteau', 'Gare de Besançon-Mouillère'), ('Gare de Besançon-Viotte', 'Gare de Mouchard'), ('Gare de Besançon-Viotte', 'Gare de Dole-Ville'), ('Gare de Besançon-Viotte', 'Gare de Le Valdahon'), ('Gare de Besançon-Viotte', 'Gare de Besançon-Franche-Comté'), ('Gare de Besançon-Viotte', 'Gare de Belfort-Ville'), ('Gare de Besançon-Viotte', 'Gare de Saint-Claude'), ('Gare de Besançon-Viotte', 'Gare de Bourg-en-Bresse'), ('Gare de Besançon-Viotte', 'Gare de Lons-le-Saunier'), ('Gare de Besançon-Mouillère', 'Gare de Le Valdahon'), ('Gare de Pontarlier', 'Gare de Vallorbe-Cff'), ('Gare de Pontarlier', 'Gare de Frasne'), ('Gare de Pontarlier', 'Dompierre-Halte-Rout.'), ('Gare de Pontarlier', 'Les Granges-Narboz'), ('Gare de Pontarlier', 'Gare de Dole-Ville'), ('Gare de Vallorbe-Cff', 'Gare de Dole-Ville'), ('Gare de Vallorbe-Cff', 'Gare de Frasne'), ('Gare de Frasne', 'Gare de Neuchâtel'), ('Gare de Frasne', 'Jougne'), ('Gare de Frasne', 'Gare de Travers'), ('Gare de Neuchâtel', 'Gare de Travers'), ('Gare de Dole-Ville', 'Gare de Mouchard'), ('Gare de Dole-Ville', 'Gare de Champagnole-PE-Victor'), ('Gare de Dole-Ville', 'Gare de Saint-Claude'), ('Gare de Dole-Ville', 'Gare de Andelot'), ('Gare de Delémont', 'Gare de Meroux'), ('Gare de Delémont', 'Gare de Delle'), ('Gare de Meroux', 'Gare de Biel'), ('Gare de Meroux', 'Gare de Belfort-Ville'), ('Gare de Meroux', 'Gare de Delle'), ('Gare de Delle', 'Gare de Biel'), ('Gare de Delle', 'Gare de Belfort-Ville'), ('Gare de Modane', 'Grenoble-Gare-Routière'), ('Gare de Modane', 'Gare de Aix-les-Bains-le-Revard'), ('Gare de St-Gervais-L-B-Le-Fayet', 'Gare de Vallorcine'), ('Gare de St-Gervais-L-B-Le-Fayet', 'Gare de Chamonix-Mont-Blanc'), ('Gare de St-Gervais-L-B-Le-Fayet', 'Gare de Coppet'), ('Gare de St-Gervais-L-B-Le-Fayet', 'Grenoble-Gare-Routière'), ('Gare de St-Gervais-L-B-Le-Fayet', 'Chamberry-Jacob'), ('Gare de St-Gervais-L-B-Le-Fayet', 'Gare de Bellegarde-s-V. Gare'), ('Gare de St-Gervais-L-B-Le-Fayet', 'Gare de Annemasse'), ('Gare de St-Gervais-L-B-Le-Fayet', 'Gare de Cluses (Hte-Savoie)'), ('Gare de St-Gervais-L-B-Le-Fayet', 'Gare de La Roche-sur-Foron'), ('Gare de St-Gervais-L-B-Le-Fayet', 'Gare de Chedde'), ('Gare de Vallorcine', 'Gare de Chamonix-Mont-Blanc'), ('Gare de Chamonix-Mont-Blanc', 'Lyon-Part-Dieu-Gare-Rou'), ('Gare de Chamonix-Mont-Blanc', 'Grenoble-Gare-Routière'), ('Gare de Chamonix-Mont-Blanc', 'Gare de Bellegarde-s-V. Gare'), ('Gare de Aulnoye Aymeries', 'Gare de Mons'), ('Gare de Aulnoye Aymeries', 'Gare de Jeumont'), ('Gare de Aulnoye Aymeries', 'Gare de Busigny'), ('Gare de Aulnoye Aymeries', 'Gare de Hirson'), ('Gare de Aulnoye Aymeries', 'Gare de Valenciennes'), ('Gare de Aulnoye Aymeries', 'Gare de Tergnier'), ('Gare de Aulnoye Aymeries', 'Gare de Lille Flandres'), ('Gare de Aulnoye Aymeries', 'Gare de Laon'), ('Gare de Courtrai/Kortrijk', 'Gare de Lille Flandres'), ('Gare de Lille Flandres', 'Gare de Tournai'), ('Gare de Lille Flandres', 'Comines (France)'), ('Gare de Lille Flandres', 'Wambrechies'), ('Gare de Lille Flandres', 'Gare de Lens'), ('Gare de Lille Flandres', 'Gare de Hazebrouck'), ('Gare de Lille Flandres', 'Gare de Mouscron / Moeskroen'), ('Gare de Lille Flandres', 'Gare de Douai'), ('Gare de Lille Flandres', 'Gare de Valenciennes'), ('Gare de Lille Flandres', 'Gare de Arras'), ('Gare de Lille Flandres', 'Gare de Dunkerque'), ('Gare de Lille Flandres', 'Gare de Jeumont'), ('Gare de Lille Flandres', 'Gare de Hirson'), ('Gare de Lille Flandres', 'Gare de Charleville-Mézières'), ('Gare de Lille Flandres', 'Gare de Béthune'), ('Gare de Lille Flandres', 'Gare de Tourcoing'), ('Gare de Lille Flandres', 'Gare de St Omer'), ('Gare de Brive-la-Gaillarde', 'Gare de Ussel'), ('Gare de Brive-la-Gaillarde', 'Gare de Egletons'), ('Gare de Brive-la-Gaillarde', 'Gare de Périgueux'), ('Gare de Brive-la-Gaillarde', 'Gare de Condat-le-Lardin'), ('Gare de Brive-la-Gaillarde', 'Gare de Aurillac'), ('Gare de Brive-la-Gaillarde', 'Gare de Objat'), ('Gare de Brive-la-Gaillarde', 'Gare de Limoges-Bénédictins'), ('Gare de Brive-la-Gaillarde', 'Gare de Tulle'), ('Gare de Brive-la-Gaillarde', 'Gare de Montauban-Ville-Bourbon'), ('Gare de Brive-la-Gaillarde', 'Gare de Capdenac'), ('Gare de Brive-la-Gaillarde', 'Gare de Bordeaux-St-Jean'), ('Gare de Brive-la-Gaillarde', 'Gare de Rodez'), ('Gare de Brive-la-Gaillarde', 'Gare de Toulouse-Matabiau'), ('Gare de Brive-la-Gaillarde', 'Gare de Cahors'), ('Gare de Brive-la-Gaillarde', 'Gare de Neussargues'), ('Gare de Ussel', 'Laqueuille'), ('Gare de Ussel', 'Gare de Clermont-Ferrand'), ('Gare de Ussel', 'Gare de Tulle'), ('Gare de Ussel', 'Bort-les-Orgues'), ('Gare de Ussel', 'Gare de Limoges-Bénédictins'), ('Gare de Ussel', 'Gare de Bordeaux-St-Jean'), ('Gare de Ussel', 'Gare de Périgueux'), ('Gare de Le Creusot', 'Gare de Montchanin'), ('Gare de Le Creusot', 'Gare de Autun'), ('Gare de Le Creusot', 'Gare de Luzy(Nièvre)'), ('Gare de Montchanin', 'Gare de Autun'), ('Gare de Montchanin', 'Gare de Chagny'), ('Gare de Montchanin', 'Gare de Luzy(Nièvre)'), ('Gare de Montchanin', 'Gare de Chalon-sur-Saône'), ('Gare de Montchanin', 'Gare de Etang'), ('Gare de Montchanin', 'Gare de Paray-le-Monial'), ('Gare de Tende', 'Gare de Breil-sur-Roya'), ('Gare de Annemasse', 'Gare de Coppet'), ('Gare de Annemasse', 'Gare de Genève'), ('Gare de Annemasse', 'Gare de Thonon-les-Bains'), ('Gare de Annemasse', 'Grenoble-Gare-Routière'), ('Gare de Annemasse', 'Gare de Evian-les-Bains'), ('Gare de Annemasse', 'Gare de Bellegarde-s-V. Gare'), ('Gare de Annemasse', 'Gare de La Roche-sur-Foron'), ('Gare de Coppet', 'Gare de Evian-les-Bains'), ('Gare de Coppet', 'Gare de Thonon-les-Bains'), ('Gare de Coppet', 'Gare de La Roche-sur-Foron'), ('Gare de Coppet', 'Gare de Cluses (Hte-Savoie)'), ('Gare de Decize', 'Gare de Luzy(Nièvre)'), ('Gare de Decize', 'Gare de Moulins-sur-Allier'), ('Gare de Decize', 'Gare de Cosne-sur-Loire'), ('Gare de Genève', 'Gare de Bellegarde-s-V. Gare'), ('Gare de Evian-les-Bains', 'Grenoble-Gare-Routière'), ('Gare de Evian-les-Bains', 'Gare de Bellegarde-s-V. Gare'), ('Gare de Evian-les-Bains', 'Gare de Thonon-les-Bains'), ('Gare de Thonon-les-Bains', 'Grenoble-Gare-Routière'), ('Gare de La Roche-sur-Foron', 'Gare de Bellegarde-s-V. Gare'), ('Gare de Forbach', 'Gare de Metz-Ville'), ('Gare de Forbach', 'Gare de Saarbrücken /Sarrebruck'), ('Gare de Metz-Ville', 'Gare de Bening'), ('Gare de Metz-Ville', 'Gare de Nancy-Ville'), ('Gare de Metz-Ville', 'Gare de Longwy'), ('Gare de Metz-Ville', 'Gare de Conflans-Jarny'), ('Gare de Metz-Ville', 'Gare de Verdun'), ('Gare de Metz-Ville', 'Gare de Trier-Hbf (Trèves)'), ('Gare de Metz-Ville', 'Gare de Luxembourg'), ('Gare de Metz-Ville', 'Gare de Bettembourg'), ('Gare de Metz-Ville', 'Gare de Thionville'), ('Gare de Metz-Ville', 'Gare de Saarbrücken /Sarrebruck'), ('Gare de Metz-Ville', 'Gare de Bar-le-Duc'), ('Gare de Metz-Ville', 'Gare de Châlons-en-Champagne'), ('Gare de Metz-Ville', 'Gare de Strasbourg'), ('Gare de Metz-Ville', 'Gare de Epernay'), ('Gare de Metz-Ville', 'Gare de Epinal'), ('Gare de Metz-Ville', 'Gare de Remiremont'), ('Gare de Metz-Ville', 'Gare de Sarrebourg'), ('Gare de Metz-Ville', 'Gare de Sarreguemines'), ('Gare de Metz-Ville', 'Gare de Lunéville'), ('Gare de Bening', 'Gare de Sarreguemines'), ('Gare de Bening', 'Bitche-Quartier-Driant'), ('Gare de Bening', 'Gare de Saarbrücken /Sarrebruck'), ('Bitche', 'Gare de Haguenau'), ('Bitche', 'Gare de Niederbronn'), ('Bitche', 'Gare de Sarreguemines'), ('Gare de Haguenau', 'Gare de Niederbronn'), ('Gare de Haguenau', 'Bitche-Camp'), ('Gare de Haguenau', 'Gare de Strasbourg'), ('Gare de Haguenau', 'Gare de Wissembourg'), ('Gare de Niederbronn', 'Bitche-Camp'), ('Gare de Niederbronn', 'Gare de Strasbourg'), ('Gare de Strasbourg', 'Gare de Sélestat'), ('Gare de Strasbourg', 'Gare de Benfeld'), ('Gare de Strasbourg', 'Gare de Sarreguemines'), ('Gare de Strasbourg', 'Gare de Diemeringen'), ('Gare de Strasbourg', 'Gare de Wingen-sur-Moder'), ('Gare de Strasbourg', 'Gare de Saverne'), ('Gare de Strasbourg', 'Gare de Herrlisheim (Bas-Rhin)'), ('Gare de Strasbourg', 'Gare de Entzheim-Aéroport'), ('Gare de Strasbourg', 'Gare de Molsheim'), ('Gare de Strasbourg', 'Gare de Barr'), ('Gare de Strasbourg', 'Gare de Rothau'), ('Gare de Strasbourg', 'Gare de Saales'), ('Gare de Strasbourg', 'Gare de WOERTH RHEIN'), ('Gare de Strasbourg', 'Gare de Saarbrücken /Sarrebruck'), ('Gare de Strasbourg', 'Gare de Mommenheim'), ('Gare de Strasbourg', 'Gare de Offenburg'), ('Gare de Strasbourg', 'Gare de Basel-SBB'), ('Gare de Strasbourg', 'Gare de Ingwiller'), ('Gare de Strasbourg', 'Gare de Roeschwoog'), ('Gare de Strasbourg', 'Gare de Lauterbourg'), ('Gare de Strasbourg', 'Gare de Kehl'), ('Gare de Strasbourg', 'Gare de Erstein'), ('Gare de Strasbourg', 'Gare de Sarrebourg'), ('Gare de Strasbourg', 'Gare de Krimmeri-Meinau'), ('Gare de Strasbourg', 'Gare de Wissembourg'), ('Gare de Strasbourg', 'Gare de Colmar'), ('Gare de Strasbourg', 'Gare de Obernai'), ('Gare de Strasbourg', 'Gare de St-Dié-des-Vosges'), ('Gare de Strasbourg', 'Gare de Mulhouse'), ('Gare de Strasbourg', 'Gare de Nancy-Ville'), ('Gare de Strasbourg', 'Gare de Lunéville'), ('Gare de Strasbourg', 'Gare de Paris-Est'), ('Gare de Strasbourg', 'Gare de Bar-le-Duc'), ('Gare de Wissembourg', 'Gare de Neustadt (Weinstr) Hbf'), ('Gare de Wissembourg', 'Gare de WINDEN PFALZ'), ('Gare de Wissembourg', 'Gare de Landau-Pfalz-Hbf'), ('Bouxwiller-Schattenmann', 'Haguenau-Moulin-Neuf.'), ('Bouxwiller-Schattenmann', 'Niedermodern/Uberach'), ('Bouxwiller-Schattenmann', 'Gare de Obermodern'), ('Haguenau-Moulin-Neuf.', 'Gare de Ingwiller'), ('Haguenau-Moulin-Neuf.', 'Dossenheim-(Mairie)'), ('Haguenau-Moulin-Neuf.', 'Gare de Saverne'), ('Haguenau-Moulin-Neuf.', 'Gare de Obermodern'), ('Gare de Saverne', 'Niedermodern/Uberach'), ('Gare de Saverne', 'Gare de Obermodern'), ('Gare de Saverne', 'Neuwiller-R.-Bouxwiller'), ('Gare de Saverne', 'Pfaffenhoffen-(Mairie).'), ('Gare de Saverne', 'Gare de Lutzelbourg'), ('Gare de Saverne', 'Frohmuhl- (Lavoir)'), ('Gare de Saverne', 'Hattmatt-S.-Polyvalente'), ('Gare de Saverne', 'Sarralbe'), ('Gare de Saverne', 'Sarre-Union'), ('Niedermodern/Uberach', 'Gare de Obermodern'), ('Niedermodern/Uberach', 'Bouxwiller-Babenhausen'), ('Gare de Ingwiller', 'Saverne-(Ht-Barr)'), ('Gare de Ingwiller', 'Reipertswiller-SP.'), ('Gare de Ingwiller', 'Lichtenberg-(Eglise).'), ('Gare de Ingwiller', 'Saverne-(Lycée-Verne)'), ('Gare de Ingwiller', 'Gare de Mommenheim'), ('Dossenheim-(Mairie)', 'Bouxwiller-Babenhausen'), ('Dossenheim-(Mairie)', 'Gare de Obermodern'), ('Gare de Obermodern', 'Saverne-(Ht-Barr)'), ('Gare de Obermodern', 'Pfaffenhoffen-(Mairie).'), ('Saverne-(Ht-Barr)', 'Frohmuhl- (Lavoir)'), ('Saverne-(Ht-Barr)', 'Hattmatt-S.-Polyvalente'), ('Bouxwiller-Babenhausen', 'Gare de Mommenheim'), ('Gare de Sélestat', 'Gare de Molsheim'), ('Gare de Sélestat', 'Ribeauville-Gare-Routiè'), ('Gare de Sélestat', 'Riquewihr-Poste'), ('Gare de Sélestat', 'Ste-Marie-/-Mines-Maire'), ('Gare de Sélestat', 'Gare de St-Dié-des-Vosges'), ('Gare de Sélestat', 'Ste-Marie/-Ms-(-Théâtre'), ('Gare de Sélestat', 'Ste-Marie-/-Ms-Pl-.CdG'), ('Gare de Sélestat', 'Lièpvre-(Rte-Vancelle)'), ('Gare de Sélestat', 'Gare de Basel-SBB'), ('Gare de Sélestat', 'Gare de Mulhouse'), ('Gare de Colmar', 'Gare de Raedersheim'), ('Gare de Colmar', 'Gare de Metzeral'), ('Gare de Colmar', 'Gare de Munster'), ('Gare de Colmar', 'Gare de Mulhouse'), ('Buswiller-Eglise', 'Gare de Mommenheim'), ('Gare de Mommenheim', \"Ettendorf-Pl,-de-L'ecol\"), ('Gare de Mommenheim', 'Ettendorf-(Angle-Pont)'), ('Gare de Mommenheim', 'Gare de Sarreguemines'), ('Gare de Mommenheim', 'Gare de Saarbrücken /Sarrebruck'), ('Gare de Diemeringen', 'Gare de Sarreguemines'), ('Gare de Diemeringen', 'Sarralbe Centre'), ('Gare de Diemeringen', 'Sarre-Union'), ('Gare de Diemeringen', 'Gare de Saarbrücken /Sarrebruck'), ('Gare de Sarreguemines', 'Sarre-Union'), ('Gare de Sarreguemines', 'Sarralbe Centre'), ('Gare de Sarreguemines', 'Gare de Sarrebourg'), ('Gare de Sarreguemines', 'Sarrebourg (Place Math)'), ('Gare de Sarreguemines', 'Bitche-Quartier-Driant'), ('Gare de Sarreguemines', 'Gare de Saarbrücken /Sarrebruck'), ('Gare de Sarreguemines', 'Gare de Krimmeri-Meinau'), ('Gare de Lutzelbourg', 'Gare de Sarrebourg'), ('Gare de Kruth', 'Thann Arrêt La Poste'), ('Gare de Kruth', 'Gare de Mulhouse'), ('Gare de Kruth', 'Gare de Thann'), ('Gare de Kruth', 'Gare de Wesserling'), ('Gare de Kruth', 'Gare de Thann-Saint-Jacques'), ('Gare de Mulhouse', 'Gare de Basel-SBB'), ('Gare de Mulhouse', 'Gare de Altkirch'), ('Gare de Mulhouse', 'Gare de Belfort-Ville'), ('Gare de Mulhouse', 'Gare de Mullheim-Baden-Bf'), ('Gare de Mulhouse', 'Gare de Freiburg-Breisgau'), ('Gare de Mulhouse', 'Gare de Erstein'), ('Gare de Mulhouse', 'Gare de Thann-Saint-Jacques'), ('Gare de Mulhouse', 'Gare de Willer-sur-Thur'), ('Gare de Mulhouse', 'Gare de Thann'), ('Gare de Mulhouse', 'Gare de Wesserling'), ('Gare de Mulhouse', 'Gare de Paris-Est'), ('Gare de Mulhouse', 'Gare de Troyes'), ('Gare de Mulhouse', 'Gare de Chaumont'), ('Gare de Mulhouse', 'Gare de Longueville (S.-et-M.)'), ('Gare de Thann', 'Gare de Mulhouse-Gare-Centrale'), ('Gare de Wesserling', 'Gare de Thann-Saint-Jacques'), ('Gare de Cernay (Haut-Rhin)', 'Sewen-(Eglise)'), ('Sewen-(Eglise)', 'Cernay-(Lycée)'), ('Saverne-(Lycée-Verne)', 'Frohmuhl- (Lavoir)'), ('Saverne-(Lycée-Verne)', 'Hattmatt-S.-Polyvalente'), ('Hattmatt-S.-Polyvalente', 'Saverne-(Pl.-Dragons)'), ('Gare de Lauterbourg', 'Gare de Roeschwoog'), ('Gare de Lauterbourg', 'Gare de WOERTH RHEIN'), ('Gare de Barr', 'Gare de Molsheim'), ('Gare de Molsheim', 'Gare de St-Dié-des-Vosges'), ('Gare de Molsheim', 'Gare de Rothau'), ('Gare de Molsheim', 'Gare de Saales'), ('Gare de Molsheim', 'Mutzig-Passage-A-Niveau'), ('Gare de Rothau', 'Gare de St-Dié-des-Vosges'), ('Gare de Rothau', 'Gare de Saales'), ('Gare de Saales', 'Gare de St-Dié-des-Vosges'), ('Gare de Belfort-Ville', 'Gare de Montreux-Vieux'), ('Gare de Belfort-Ville', 'Gare de Aillevillers'), ('Gare de Belfort-Ville', 'Gare de Vesoul'), ('Gare de Belfort-Ville', 'Gare de Paris-Est'), ('Gare de Belfort-Ville', 'Gare de Troyes'), ('Gare de Belfort-Ville', 'Gare de Chaumont'), ('Gare de Belfort-Ville', 'Gare de Epinal'), ('Gare de Belfort-Ville', 'Gare de Montbéliard-Ville'), ('Gare de Belfort-Ville', 'Gare de Bourg-en-Bresse'), ('Gare de Belfort-Ville', 'Gare de Lons-le-Saunier'), ('Ste-Marie-/-Mines-Maire', 'Sèlestat-(Schwilgué)'), ('Gare de St-Dié-des-Vosges', 'Laveline-d-Bruy. Mairie'), ('Gare de St-Dié-des-Vosges', 'Gare de Epinal'), ('Gare de St-Dié-des-Vosges', 'Bruyères (Vosges)'), ('Gare de St-Dié-des-Vosges', 'Gare de Arches'), ('Gare de St-Dié-des-Vosges', 'Bruyères Chanzy Gare'), ('Gare de St-Dié-des-Vosges', 'Gare de Nancy-Ville'), ('Gare de St-Dié-des-Vosges', 'Gare de Lunéville'), ('Ste-Croix/Mines-Sq-de-G', 'Sèlestat-(Schwilgué)'), ('Sèlestat-(Schwilgué)', 'Liepvre-(-R.-GUTH-)'), ('Ste-Marie-/-Ms-Pl-.CdG', 'Sélestat-(Schweisguth)'), ('Gare de Montluçon-Ville', 'Gare de Vichy'), ('Gare de Montluçon-Ville', 'Gare de Clermont-Ferrand'), ('Gare de Montluçon-Ville', 'Gare de Riom-Châtel-Guyon'), ('Gare de Montluçon-Ville', \"Urcay-Hotel-du-Lyon-d'O\"), ('Gare de Montluçon-Ville', 'Gare de St-Amand-Montrond-Orval'), ('Gare de Montluçon-Ville', 'St-Eloy'), ('Gare de Montluçon-Ville', 'St-Gervais-Ch-LPA.'), ('Gare de Montluçon-Ville', 'Gare de Guéret'), ('Gare de Montluçon-Ville', 'Gare de Commentry'), ('Gare de Montluçon-Ville', 'Gare de Vallon-en-Sully'), ('Gare de Montluçon-Ville', 'Gare de Limoges-Bénédictins'), ('Gare de Montluçon-Ville', 'Gare de Bordeaux-St-Jean'), ('Laqueuille', 'Le-Mont-Dore-Gare'), ('Le-Mont-Dore-Gare', 'Gare de Clermont-Ferrand'), ('Gare de Clermont-Ferrand', 'Gare de Gannat'), ('Gare de Clermont-Ferrand', 'Saint-Etienne-Chtx GR'), ('Gare de Clermont-Ferrand', 'Gare de Le Puy-en-Velay'), ('Gare de Clermont-Ferrand', 'Gare de Thiers'), ('Gare de Clermont-Ferrand', 'Gare de Volvic'), ('Gare de Clermont-Ferrand', 'Ancizes-St-Georges-Bour'), ('Gare de Clermont-Ferrand', 'St-Gervais-Mairie'), ('Gare de Clermont-Ferrand', 'Le Mont Dore Ski'), ('Gare de Clermont-Ferrand', 'Gare de Vertaizon'), ('Gare de Clermont-Ferrand', 'Mauriac-Lycée-Cortat'), ('Gare de Clermont-Ferrand', 'Mauriac'), ('Gare de Clermont-Ferrand', 'St-Flour-les-Allées'), ('Gare de Clermont-Ferrand', 'Gare de Mende'), ('Gare de Clermont-Ferrand', 'Gare de Moulins-sur-Allier'), ('Gare de Clermont-Ferrand', 'Gare de Riom-Châtel-Guyon'), ('Gare de Clermont-Ferrand', 'Gare de Vichy'), ('Gare de Clermont-Ferrand', 'Gare de Alès'), ('Gare de Clermont-Ferrand', 'Gare de Aurillac'), ('Gare de Clermont-Ferrand', 'Gare de Arvant'), ('Gare de Clermont-Ferrand', 'Gare de Durtol-Nohanent'), ('Gare de Clermont-Ferrand', 'Gare de St-Germain-des-Fossés'), ('Gare de Clermont-Ferrand', 'Gare de Vic-le-Comte'), ('Gare de Clermont-Ferrand', 'Gare de Brioude'), ('Gare de Clermont-Ferrand', 'Gare de Issoire'), ('Gare de Clermont-Ferrand', 'Gare de Le Lioran'), ('Gare de Clermont-Ferrand', 'Gare de Nîmes'), ('Gare de Gannat', 'Gare de Riom-Châtel-Guyon'), ('Gare de Gannat', 'Gare de Vichy'), ('Gare de Gannat', 'Gare de Issoire'), ('Gare de Gannat', 'Gare de Vic-le-Comte'), ('Gare de Gannat', 'Gare de Brioude'), ('Gare de Riom-Châtel-Guyon', 'St-Gervais-Ch-LPA.'), ('Gare de Riom-Châtel-Guyon', 'Gare de Issoire'), ('Gare de Riom-Châtel-Guyon', 'Gare de Vic-le-Comte'), ('Gare de Aurillac', 'Gare de St-Denis-près-Martel'), ('Gare de Aurillac', 'Gare de Capdenac'), ('Gare de Aurillac', 'Gare de Arvant'), ('Gare de Aurillac', 'Gare de Neussargues'), ('Gare de Aurillac', 'Gare de Figeac'), ('Gare de Aurillac', 'Gare de Toulouse-Matabiau'), ('Gare de St-Denis-près-Martel', 'Gare de Souillac'), ('Gare de Capdenac', 'Gare de Figeac'), ('Gare de Capdenac', 'Gare de Rodez'), ('Gare de Capdenac', 'Gare de Toulouse-Matabiau'), ('Gare de Vichy', 'Gare de Moulins-sur-Allier'), ('Gare de Vichy', 'Ambert'), ('Gare de Vichy', 'Gare de Pont-de-Dore'), ('Saint-Etienne-Chtx GR', 'Gare de Thiers'), ('Saint-Etienne-Chtx GR', 'Gare de Le Puy-en-Velay'), ('Saint-Etienne-Chtx GR', 'Lyon-Part-Dieu-Gare-Rou'), ('Saint-Etienne-Chtx GR', 'Valence-Gare-Routière'), ('Saint-Etienne-Chtx GR', 'Gare de Boën'), ('Saint-Etienne-Chtx GR', 'Noirétable'), ('Saint-Etienne-Chtx GR', 'Gare de Montbrison'), ('Saint-Etienne-Chtx GR', 'Gare de Feurs'), ('Saint-Etienne-Chtx GR', 'Roanne-Gare-Routière'), ('Gare de Thiers', 'Gare de Vertaizon'), ('Gare de Le Puy-en-Velay', 'Gare de Brioude'), ('Gare de Le Puy-en-Velay', 'Gare de Langeac'), ('Gare de Le Puy-en-Velay', \"Gare de St-Georges-d'Aurac\"), ('Gare de Le Puy-en-Velay', 'Gare de Arvant'), ('Gare de Le Puy-en-Velay', 'La Chaise-Dieu'), ('Gare de Le Puy-en-Velay', 'Ambert'), ('Gare de Le Puy-en-Velay', 'Gare de Marvejols'), ('Gare de Le Puy-en-Velay', 'Gare de Firminy'), ('Gare de Le Puy-en-Velay', 'Gare de Vorey'), ('Gare de Le Puy-en-Velay', 'Gare de St-Etienne-Châteaucreux'), ('Gare de Arvant', 'St-Flour-les-Allées'), ('Gare de Arvant', \"Gare de St-Chély-d'Apcher\"), ('Gare de Arvant', 'Gare de Issoire'), ('Gare de Arvant', 'Gare de Brioude'), ('Gare de Arvant', 'Gare de Langeac'), ('Gare de Arvant', 'Gare de Nîmes'), ('Gare de Arvant', 'Gare de Alès'), ('Gare de Moulins-sur-Allier', 'Gare de Paray-le-Monial'), ('Gare de Moulins-sur-Allier', 'Gare de Vic-le-Comte'), ('Gare de Moulins-sur-Allier', 'Gare de Issoire'), ('Gare de Moulins-sur-Allier', 'Gare de Brioude'), ('Gare de Volvic', 'Ancizes-St-Georges-Bour'), ('Gare de Volvic', 'St-Eloy'), ('Gare de Volvic', 'Pontgibaud-Ville'), ('Gare de St-Amand-Montrond-Orval', 'Bourges-Gare-Routière'), ('Gare de St-Amand-Montrond-Orval', 'Gare de Commentry'), ('St-Eloy', 'Gare de Lapeyrouse(Puy-de-Dôme)'), ('Gare de Lapeyrouse(Puy-de-Dôme)', 'St-Eloy-les-Mines-Lycée'), ('St-Flour-les-Allées', 'Gare de Massiac-Blesle'), ('St-Flour-les-Allées', \"Gare de St-Chély-d'Apcher\"), ('Gare de Massiac-Blesle', \"Gare de St-Chély-d'Apcher\"), (\"Gare de St-Chély-d'Apcher\", 'Gare de Neussargues'), (\"Gare de St-Chély-d'Apcher\", 'Gare de Mende'), (\"Gare de St-Chély-d'Apcher\", 'Gare de Béziers'), (\"Gare de St-Chély-d'Apcher\", 'Gare de Millau'), (\"Gare de St-Chély-d'Apcher\", 'Gare de Montpellier-Saint-Roch'), ('Gare de Neussargues', 'Riom_Es_M_la_Poste.'), ('Gare de Neussargues', 'Gare de St-Flour-Chaudes-Aigues'), ('Brioude-Lycée-Lafayette', 'Gare de Brioude'), ('Gare de Brioude', 'Gare de Langeac'), ('Gare de Brioude', 'Gare de Issoire'), ('Gare de Brioude', 'Gare de Alès'), ('Gare de Langeac', \"Gare de St-Georges-d'Aurac\"), ('Gare de Langeac', \"St-George-d'Aurac-Bourg\"), ('Gare de Issoire', 'Le-Breuil-sur-Couze-Lyc'), ('Gare de Issoire', 'Gare de St-Germain-des-Fossés'), ('Gare de Vic-le-Comte', 'Issoire-Lycée-Deville'), ('Gare de Vic-le-Comte', 'Gare de St-Germain-des-Fossés'), ('Gare de Autun', 'Gare de Etang'), ('Gare de Paray-le-Monial', 'Gare de Lozanne'), ('Chauffailles-Gambetta', 'Gare de Digoin'), ('Gare de Digoin', 'Gare de Lozanne'), ('Gare de Lozanne', 'Gare de Lyon-Gorge-de-Loup'), ('Gare de Lozanne', 'Lyon-St-Paul-Quai-Bondy'), ('Gare de Lozanne', 'Grandris-Centre'), ('Gare de Lozanne', 'Gare de Lamure-sur-Azergues'), ('Gare de Lozanne', 'Poule-Mairie'), ('Gare de Lozanne', \"Bois-d'Oingt-Centre\"), ('Gare de Lozanne', 'Gare de Tassin'), ('Gare de Louhans', 'Gare de Seurre'), ('Gare de Seurre', 'Gare de Bourg-en-Bresse'), ('Gare de Bourg-en-Bresse', 'Gare de Lons-le-Saunier'), ('Gare de Bourg-en-Bresse', 'Gare de Ambérieu-en-Bugey'), ('Gare de Bourg-en-Bresse', 'Gare de Oyonnax'), ('Gare de Bourg-en-Bresse', 'Gare de Mouchard'), ('Gare de Auxerre-St-Gervais', 'Gare de Avallon'), ('Gare de Auxerre-St-Gervais', 'Gare de Clamecy'), ('Gare de Auxerre-St-Gervais', 'Gare de Corbigny'), ('Gare de Auxerre-St-Gervais', 'Gare de Laroche-Migennes'), ('Gare de Avallon', 'Gare de Laroche-Migennes'), ('Gare de Clamecy', 'Gare de Corbigny'), ('Gare de Clamecy', 'Gare de Laroche-Migennes'), ('Gare de Corbigny', 'Gare de Laroche-Migennes'), ('Gare de Lorient', 'Gare de Quimperlé'), ('Gare de Lorient', 'Gare de Quimper'), ('Gare de Lorient', 'Gare de Rosporden'), ('Gare de Lorient', 'Gare de Vannes'), ('Gare de Lorient', 'Gare de Redon'), ('Châteaubriant', 'Gare de Janzé'), ('Châteaubriant', 'Gare de Retiers'), ('Gare de Janzé', 'Gare de Rennes'), ('Gare de Retiers', 'Gare de Rennes'), ('Gare de Dinan', 'Gare de Dol'), ('Gare de Dinan', 'Gare de St-Brieuc'), ('Gare de Dinan', 'Gare de Lamballe'), ('Gare de Dol', 'Gare de Rennes'), ('Gare de Valençay', 'Luçay-le-Male'), ('Gare de Valençay', \"Gare de Faubourg-d'Orléans\"), ('Gare de Valençay', 'Gare de Romorantin-Blanc-Argent'), ('Gare de Valençay', 'Gare de Salbris'), ('Gare de Romorantin-Blanc-Argent', 'Gare de Salbris'), ('Gare de Romorantin-Blanc-Argent', \"Gare de Faubourg-d'Orléans\"), ('La Ferté-sur-Chiers', 'Sedan-Place-Calonne'), ('Gare de Châlons-en-Champagne', 'Gare de Verdun'), ('Gare de Châlons-en-Champagne', 'Gare de Chaumont'), ('Gare de Châlons-en-Champagne', 'Gare de St-Dizier'), ('Gare de Châlons-en-Champagne', 'Gare de Château-Thierry'), ('Gare de Châlons-en-Champagne', 'Gare de Bar-le-Duc'), ('Gare de Châlons-en-Champagne', 'Gare de Paris-Est'), ('Gare de Châlons-en-Champagne', 'Gare de Reims'), ('Gare de Verdun', 'Gare de Conflans-Jarny'), ('Gare de Verdun', 'Gare de Hagondange'), ('Gare de Verdun', 'Gare de Nancy-Ville'), ('Gare de St-Dizier', 'Gare de Vitry-le-François'), ('Gare de St-Dizier', 'Gare de Joinville'), ('Gare de St-Dizier', 'Gare de Chaumont'), ('Gare de St-Dizier', 'Gare de Bar-le-Duc'), ('Gare de St-Dizier', 'Gare de Paris-Est'), ('Gare de St-Dizier', 'Gare de Château-Thierry'), ('Gare de St-Dizier', 'Gare de Reims'), ('Gare de St-Dizier', 'Gare de Culmont-Chalindrey'), ('Gare de Joinville', 'Gare de Chaumont'), ('Gare de Chaumont', 'Langres-Gendarmerie'), ('Gare de Chaumont', 'Gare de Troyes'), ('Gare de Chaumont', 'Gare de Vendeuvre (Aube)'), ('Gare de Chaumont', 'Ville-sous-La-Ferté'), ('Gare de Chaumont', 'Bricon(la Poste)'), ('Gare de Chaumont', 'Gare de Culmont-Chalindrey'), ('Gare de Chaumont', 'Gare de Paris-Est'), ('Gare de Chaumont', 'Gare de Reims'), ('Gare de Troyes', 'Gare de Bar-sur-Aube'), ('Gare de Troyes', 'Gare de Vendeuvre (Aube)'), ('Gare de Troyes', 'Gare de St-Florentin-Vergigny'), ('Gare de Troyes', 'Gare de Laroche-Migennes'), ('Gare de Troyes', 'Gare de Romilly-sur-Seine'), ('Gare de Troyes', 'Payns Abri Savières'), ('Gare de Troyes', 'Gare de Culmont-Chalindrey'), ('Gare de Troyes', 'Gare de Paris-Est'), ('Gare de Bar-sur-Aube', 'Juvancourt'), ('Juvancourt', 'Bayel-Eglise'), ('Juvancourt', 'Gare de Vendeuvre (Aube)'), ('Gare de Laroche-Migennes', 'Gare de Tonnerre'), ('Gare de Laroche-Migennes', 'Gare de Montereau'), ('Gare de Romilly-sur-Seine', 'Gare de Nogent-sur-Seine'), ('Gare de Charleville-Mézières', 'Gare de Hirson'), ('Gare de Charleville-Mézières', 'Gare de Givet'), ('Gare de Charleville-Mézières', 'Gare de Nouzonville'), ('Gare de Charleville-Mézières', 'Gare de Reims'), ('Gare de Charleville-Mézières', 'Gare de Sedan'), ('Gare de Charleville-Mézières', 'Gare de Longwy'), ('Gare de Charleville-Mézières', 'Gare de Longuyon'), ('Gare de Charleville-Mézières', 'Gare de Thionville'), ('Gare de Charleville-Mézières', 'Gare de Champagne-Ardenne'), ('Gare de Hirson', 'Laon-Gare-Routière-Poma'), ('Gare de Hirson', 'Gare de Valenciennes'), ('Gare de Hirson', 'Gare de Laon'), ('Gare de Fismes', 'Gare de Reims'), ('Gare de Reims', 'Gare de Sedan'), ('Gare de Reims', 'Gare de Laon'), ('Gare de Reims', 'Gare de Champagne-Ardenne'), ('Gare de Reims', 'Gare de Château-Thierry'), ('Gare de Reims', 'Gare de Culmont-Chalindrey'), ('Gare de Reims', 'Gare de Epernay'), ('Gare de Aillevillers', 'Gare de Lure'), ('Gare de Mouchard', 'Gare de Lons-le-Saunier'), ('Gare de Mouchard', 'Gare de Poligny'), ('Gare de Mouchard', 'Gare de Saint-Claude'), ('Gare de Champagnole', 'Gare de Saint-Claude'), ('Gare de Saint-Claude', 'Gare de Andelot'), ('Gare de Saint-Claude', 'Lyon-Part-Dieu-Gare-Rou'), ('Gare de Alès', 'Gare de Nîmes'), ('Gare de Alès', 'Gare de Génolhac'), ('Gare de Alès', 'Gare de La Bastide-St-Laurent'), ('Gare de Alès', 'Gare de Mende'), ('Gare de Alès', 'Gare de Langogne'), ('Gare de Nîmes', 'Gare de Port-Bou'), ('Gare de Nîmes', 'Gare de Le Grau-du-Roi'), ('Gare de Nîmes', 'Gare de Langogne'), ('Gare de Nîmes', 'Gare de Mende'), ('Gare de Nîmes', 'Gare de Marvejols'), ('Gare de Nîmes', 'Gare de Toulouse-Matabiau'), ('Gare de Nîmes', 'Gare de Carcassonne'), ('Gare de Nîmes', 'Gare de Montpellier-Saint-Roch'), ('Gare de Nîmes', 'Gare de Sète'), ('Gare de Nîmes', 'Gare de Perpignan'), ('Gare de Nîmes', 'Gare de Narbonne'), ('Gare de Nîmes', 'Gare de Cerbère'), ('Gare de Nîmes', 'Gare de Génolhac'), ('Gare de Nîmes', 'Gare de La Bastide-St-Laurent'), ('Gare de Nîmes', 'Gare de Vauvert'), ('Gare de La Bastide-St-Laurent', 'Gare de Langogne'), ('Gare de La Bastide-St-Laurent', 'Gare de Mende'), ('Gare de La Bastide-St-Laurent', 'Gare de Marvejols'), ('Gare de Langogne', 'Gare de Mende'), ('Gare de Mende', 'Marvejols Place Chayla'), ('Gare de Mende', 'Gare de Marvejols'), ('Gare de Millau', 'Marvejols Place Chayla'), ('Gare de Millau', 'Gare de Rodez'), ('Gare de Millau', 'Laissac-Foirail'), ('Gare de Millau', 'Gare de Béziers'), ('Gare de Carcassonne', 'Quillan'), ('Gare de Carcassonne', 'Gare de Limoux'), ('Gare de Carcassonne', 'Gare de Castelnaudary'), ('Gare de Carcassonne', 'Gare de Toulouse-Matabiau'), ('Gare de Carcassonne', 'Gare de Narbonne'), ('Gare de Carcassonne', 'Gare de Perpignan'), ('Quillan', 'Gare de Limoux'), ('Gare de Bédarieux', 'Gare de Béziers'), ('Gare de Guéret', 'Gare de Limoges-Bénédictins'), ('Gare de Guéret', 'Gare de Felletin-Gare'), ('Gare de Guéret', 'Gare de Bordeaux-St-Jean'), ('Gare de Tulle', 'Gare de Egletons'), ('Gare de Tulle', 'Gare de Condat-le-Lardin'), ('Gare de Tulle', 'Gare de Bordeaux-St-Jean'), ('Gare de Egletons', 'Gare de Meymac'), ('Gare de Nancy-Ville', 'Mirecourt'), ('Gare de Nancy-Ville', 'Damblain Eglise'), ('Gare de Nancy-Ville', 'Gare de Contrexéville'), ('Gare de Nancy-Ville', 'Martigny-les-B-Thiebaut'), ('Gare de Nancy-Ville', 'Gare de Vittel'), ('Gare de Nancy-Ville', 'Mirecourt (Lycée Agric)'), ('Gare de Nancy-Ville', 'Gare de Neufchâteau'), ('Gare de Nancy-Ville', 'Neufchateau-Lp'), ('Gare de Nancy-Ville', 'Gare de Luxembourg'), ('Gare de Nancy-Ville', 'Gare de Thionville'), ('Gare de Nancy-Ville', 'Gare de Bettembourg'), ('Gare de Nancy-Ville', 'Gare de Lunéville'), ('Gare de Nancy-Ville', 'Gare de Epinal'), ('Gare de Nancy-Ville', 'Gare de Longwy'), ('Gare de Nancy-Ville', 'Gare de Pont-St-Vincent'), ('Gare de Nancy-Ville', 'Gare de Bar-le-Duc'), ('Gare de Nancy-Ville', 'Gare de Remiremont'), ('Gare de Nancy-Ville', 'Gare de Baroncourt'), ('Gare de Nancy-Ville', 'Gare de Revigny'), ('Gare de Nancy-Ville', 'Gare de Liverdun'), ('Gare de Nancy-Ville', 'Gare de Conflans-Jarny'), ('Gare de Nancy-Ville', 'Gare de Epernay'), ('Gare de Nancy-Ville', 'Gare de Toul'), ('Gare de Nancy-Ville', 'Gare de Paris-Est'), ('Mirecourt', 'Gare de Contrexéville'), ('Mirecourt', 'Gare de Vittel'), ('Mirecourt', 'Gare de Charmes (Vosges)'), ('Mirecourt', 'Gare de Epinal'), ('Martigny-les-B-Thiebaut', 'Vézelise Beauregard'), ('Gare de Contrexéville', 'Gare de Epinal'), ('Gare de Vittel', 'Gare de Charmes (Vosges)'), ('Gare de Vittel', 'Gare de Neufchâteau'), ('Gare de Vittel', 'Gare de Culmont-Chalindrey'), ('Gare de Vittel', 'Gare de Paris-Est'), ('Mirecourt (Lycée Agric)', 'Gare de Charmes (Vosges)'), ('Gare de Charmes (Vosges)', 'Gare de Epinal'), ('Igney (Centre)', 'Sarrebourg-LP-Messmer'), ('Igney (Centre)', 'Gare de Sarrebourg'), ('Sarrebourg-LP-Messmer', 'Loudrefing'), ('Sarrebourg-LP-Messmer', 'St-Jean-de-Bassel-Eglis'), ('Sarrebourg-LP-Messmer', 'Fénétrange (Gendarm.)'), ('Gare de Sarrebourg', 'Gare de Morhange'), ('Gare de Sarrebourg', 'Loudrefing'), ('Gare de Sarrebourg', 'St-Jean-de-Bassel-Eglis'), ('Gare de Sarrebourg', 'St-Louis-57-Incliné'), ('Gare de Sarrebourg', 'Gare de Paris-Est'), ('Gare de Longuyon', 'Gare de Longwy'), ('Gare de Longuyon', 'Gare de Montmédy'), ('Gare de Longuyon', 'Vezin-Carrefour'), ('Gare de Longuyon', 'Gare de Thionville'), ('Gare de Longwy', 'Gare de Luxembourg'), ('Gare de Longwy', 'Gare de Rodange'), ('Gare de Longwy', 'Gare de Conflans-Jarny'), ('Gare de Longwy', 'Gare de Sedan'), ('Gare de Longwy', 'Gare de Thionville'), ('Vezin-Carrefour', 'Longuyon (Collège)'), ('Gare de Morhange', 'Gare de Rémilly'), ('Loudrefing', 'Sarrebourg (Place Math)'), ('St-Jean-de-Bassel-Eglis', 'Sarrebourg (Place Math)'), ('Gare de Neufchâteau', 'Gare de Toul'), ('Gare de Neufchâteau', 'Gare de Epinal'), ('Fénétrange (Gendarm.)', 'Sarrebourg-Hôpital'), ('Fénétrange (Gendarm.)', 'Sarrebourg-Abri-Phalsbo'), ('Gare de Toul', 'Neufchateau-Lp'), ('Gare de Toul', 'Allamps-Esat'), ('Gare de Toul', 'Gare de Bar-le-Duc'), ('Gare de Toul', 'Gare de Lunéville'), ('Creutzwald G.R.', 'Gare de Thionville'), ('Gare de Thionville', 'Bouzonville'), ('Gare de Thionville', 'Kédange (Eglise)'), ('Gare de Thionville', 'Hombourg (Chapelle)'), ('Gare de Thionville', 'Perl Gare DB'), ('Gare de Thionville', 'Gare de Audun-le-Roman'), ('Gare de Thionville', 'Gare de Luxembourg'), ('Laveline-d-Bruy. Mairie', 'Gare de Epinal'), ('Gare de Epinal', 'Bruyères (Vosges)'), ('Gare de Epinal', 'Saint-Léonard Centre'), ('Gare de Epinal', 'Corcieux Le Conti'), ('Gare de Epinal', 'Bruyères Chanzy Gare'), ('Gare de Epinal', 'Gare de Arches'), ('Gare de Epinal', 'Gare de Remiremont'), ('Bruyères (Vosges)', 'Saint-Léonard Centre'), ('Bruyères (Vosges)', 'Gare de Lunéville'), ('Sarre-Union', 'Herbitzheim R. Hambach'), ('Sarre-Union', 'Herbitzheim Mairie'), ('Sarre-Union', 'Keskastel'), ('Sarrebourg-Abri-Phalsbo', 'Berthelming-Mairie'), ('Gare de Bar-le-Duc', 'Gare de Revigny'), ('Gare de Bar-le-Duc', 'Gare de Epernay'), ('Gare de Bar-le-Duc', 'Gare de Lunéville'), ('Gare de Bar-le-Duc', 'Gare de Paris-Est'), ('Gare de Bar-le-Duc', 'Gare de Château-Thierry'), ('Gare de Revigny', 'Gare de Lunéville'), ('Gare de Conflans-Jarny', 'Gare de Pagny-sur-Moselle'), ('Gare de Conflans-Jarny', 'Gare de Hagondange'), ('Gare de Figeac', 'Gare de Gramat'), ('Gare de Figeac', 'Gare de Tessonnières'), ('Gare de Mazamet', 'Gare de Toulouse-Matabiau'), ('Gare de Mazamet', 'Gare de St-Sulpice (Tarn)'), ('Gare de Toulouse-Matabiau', 'Gare de Pau'), ('Gare de Toulouse-Matabiau', 'Gare de Ax-les-Thermes'), ('Gare de Toulouse-Matabiau', 'Gare de Albi-Ville'), ('Gare de Toulouse-Matabiau', 'Gare de Foix'), ('Gare de Toulouse-Matabiau', 'Gare de Port-Bou'), ('Gare de Toulouse-Matabiau', 'Gare de Narbonne'), ('Gare de Toulouse-Matabiau', 'Gare de Castelnaudary'), ('Gare de Toulouse-Matabiau', 'Gare de Auch'), ('Gare de Toulouse-Matabiau', \"Gare de L'Isle-Jourdain (Gers)\"), ('Gare de Toulouse-Matabiau', 'Gare de Rodez'), ('Gare de Toulouse-Matabiau', 'Gare de Carmaux'), ('Gare de Toulouse-Matabiau', 'Gare de Colomiers'), ('Gare de Toulouse-Matabiau', 'Gare de Tessonnières'), ('Gare de Toulouse-Matabiau', 'Gare de Pamiers'), ('Gare de Toulouse-Matabiau', 'Gare de Cahors'), ('Gare de Toulouse-Matabiau', 'Gare de Montauban-Ville-Bourbon'), ('Gare de Toulouse-Matabiau', 'Gare de Agen'), ('Gare de Toulouse-Matabiau', 'Gare de St-Sulpice (Tarn)'), ('Gare de Toulouse-Matabiau', 'Gare de Muret'), ('Gare de Toulouse-Matabiau', 'Gare de Boussens'), ('Gare de Toulouse-Matabiau', 'Gare de Montréjeau-Gourdan-Pol.'), ('Gare de Toulouse-Matabiau', 'Gare de Tarbes'), ('Gare de Toulouse-Matabiau', 'Gare de Montpellier-Saint-Roch'), ('Gare de Toulouse-Matabiau', 'Gare de Perpignan'), ('Gare de Toulouse-Matabiau', 'Gare de Cerbère'), ('Gare de Muret', 'Gare de Pau'), ('Gare de Muret', 'Gare de Tarbes'), ('Gare de Muret', 'Gare de Boussens'), ('Gare de Muret', 'Gare de Montréjeau-Gourdan-Pol.'), ('Gare de Pau', 'Gare de Bayonne'), ('Gare de Pau', 'Gare de Dax'), ('Gare de Pau', 'Gare de Bedous'), ('Gare de Pau', 'Gare de Oloron-Ste-Marie'), ('Gare de Pau', 'Gare de Bidos'), ('Gare de Pau', 'Gare de Boussens'), ('Gare de Pau', 'Gare de Tarbes'), ('Gare de Pau', 'Gare de Bordeaux-St-Jean'), ('Gare de Agen', 'Gare de Castelsarrasin'), ('Gare de Agen', 'Gare de Bordeaux-St-Jean'), ('Gare de Agen', 'Gare de Périgueux'), ('Gare de Agen', 'Gare de Monsempron-Libos'), ('Gare de Agen', 'Gare de Montauban-Ville-Bourbon'), ('Gare de Agen', 'Gare de Limoges-Bénédictins'), ('Gare de Agen', 'Gare de Marmande'), ('Gare de Agen', 'Gare de Langon'), ('Gare de Longages-Noé', 'St-Sulpice-sur-Lèze'), ('Gare de Montréjeau-Gourdan-Pol.', 'Luchon-Richelieu'), ('Gare de Montréjeau-Gourdan-Pol.', 'Luchon'), ('Gare de Montréjeau-Gourdan-Pol.', 'Gare de Boussens'), ('Gare de Ax-les-Thermes', 'Gare de Foix'), ('Gare de Ax-les-Thermes', 'Gare de Pamiers'), ('Gare de Ax-les-Thermes', 'Latour de Carol'), ('Gare de Foix', 'Gare de Pamiers'), ('Gare de Abbeville', 'Gare de Rue'), ('Gare de Abbeville', 'Gare de Albert'), ('Gare de Lens', 'Gare de Arras'), ('Gare de Lens', 'Gare de Douai'), ('Gare de Lens', 'Gare de Hazebrouck'), ('Gare de Lens', 'Gare de Béthune'), ('Gare de Avesnes', 'Gare de Hirson-Ecoles'), ('Gare de Arras', 'Gare de Douai'), ('Gare de Arras', 'Gare de St Pol sur Ternoise'), ('Gare de Arras', 'Gare de Albert'), ('Gare de Arras', 'Gare de Calais Fréthun'), ('Gare de Arras', 'Gare de Hazebrouck'), ('Gare de Arras', 'Gare de Dunkerque'), ('Gare de Arras', 'Gare de Béthune'), ('Gare de Douai', 'Gare de Albert'), ('Gare de Douai', 'Gare de Valenciennes'), ('Gare de Hazebrouck', 'Gare de Dunkerque'), ('Gare de Calais Fréthun', 'Gare de Rang du Fl. Verton Ber.'), ('Gare de Calais Fréthun', 'Gare de Lille Europe'), ('Gare de Coutances', 'Gare de Lison'), ('Gare de Coutances', 'Gare de Pontorson-Mt-St-Michel'), ('Bagnoles- Orne Egl.Mad.', 'Gare de Briouze'), ('Gare de Alençon', 'Gare de Surdon'), ('Gare de Alençon', 'Gare de Château-du-Loir'), ('Gare de Surdon', \"Gare de L'Aigle\"), ('Gare de Evreux', 'Normandie'), ('Gare de Villedieu (Gare)', 'Le Mont St Michel'), ('Gare de Rennes', 'Gare de Fougères'), ('Gare de Rennes', 'Gare de Vitré'), ('Gare de Rennes', 'Gare de St-Brieuc'), ('Gare de Rennes', 'Gare de Montauban-de-Bretagne'), ('Gare de Rennes', 'Gare de Messac-Guipry'), ('Gare de Rennes', 'Gare de Nantes'), ('Gare de Rennes', 'Gare de Vannes'), ('Gare de Rennes', 'Gare de Redon'), ('Gare de Rennes', 'Gare de Montreuil-sur-Ille'), ('Gare de Rennes', 'Gare de St-Malo'), ('Gare de Rennes', 'Gare de La Brohinière'), ('Gare de Rennes', 'Gare de Brest'), ('Gare de Rennes', 'Gare de Quimper'), ('Gare de Rennes', 'Gare de Laval'), ('Gare de Rennes', 'Gare de Le Croisic'), ('Gare de Bréauté-Beuzeville', 'Gare de Fécamp'), ('Gare de Mantes-la-Jolie', 'Gare de Vernon-Giverny'), ('Gare de Mantes-la-Jolie', 'Gare de Bueil'), ('Pont-Audemer-Gare-SNCF', 'Rouen-Gare-Routière'), ('Pont-Audemer-Gare-SNCF', 'Bourg-Achard Champ de F'), ('Rouen-Gare-Routière', 'Routot-Place-de-mairie'), ('Gare de Nantes', 'Gare de St-Gilles-Croix-de-Vie'), ('Gare de Nantes', 'Gare de Cholet'), ('Gare de Nantes', 'Gare de Angers-St-Laud'), ('Gare de Nantes', 'Gare de Laval'), ('Gare de Nantes', 'Gare de St-Nazaire'), ('Gare de Nantes', 'Gare de Le Croisic'), ('Gare de Nantes', 'Gare de Redon'), ('Gare de Nantes', 'Gare de Quimper'), ('Gare de Nantes', 'Gare de Brest'), ('Gare de Nantes', 'Gare de Savenay'), ('Gare de Nantes', 'Gare de Saumur'), ('Gare de Nantes', 'Gare de La Roche-sur-Yon'), ('Gare de Nantes', \"Gare de Les Sables-d'Olonne\"), ('Gare de Nantes', 'Gare de Ste-Pazanne'), ('Gare de Nantes', 'Gare de Pornic'), ('Gare de Nantes', 'Gare de Ancenis'), ('Gare de Nantes', 'Gare de Sucé-Sur-Erdre'), ('Gare de Nantes', 'Gare de Nort-sur-Erdre'), ('Gare de Nantes', 'Gare de Châteaubriant-TT'), ('Gare de Nantes', 'Gare de Clisson'), ('Gare de Cholet', 'Gare de Clisson'), ('Gare de Cholet', 'Gare de Angers-St-Laud'), ('Gare de Cholet', 'Gare de Saumur'), ('Gare de Beauvais-Gare-SNCF', 'Gare de Creil'), ('Gare de Beauvais-Gare-SNCF', 'Gare de Persan-Beaumont'), ('Gare de Beauvais-Gare-SNCF', 'Gare de Abancourt'), ('Gare de Creil', 'Gare de Laon'), ('Gare de Creil', 'Laon-Gare-Routière-Poma'), ('Gare de Creil', 'Gare de St-Just-SNCF'), ('Gare de Creil', 'Gare de Abancourt'), ('Laon-Gare-Routière-Poma', 'Gare de Tergnier'), ('Gare de Tergnier', 'Gare de Laon'), ('Gare de Chatellerault', 'Gare de Poitiers'), ('Gare de Poitiers', 'Gare de Limoges-Bénédictins'), ('Gare de Poitiers', 'Gare de Angoulême'), ('Gare de Poitiers', 'Gare de Niort'), ('Gare de Poitiers', 'Gare de La Rochelle-Ville'), ('Gare de Poitiers', 'Gare de Le Dorat'), ('Gare de Mauzé', 'Gare de Niort'), ('Gare de Niort', 'Gare de Prissé-la-Charrière'), ('Gare de Niort', 'Gare de Saintes'), ('Gare de Niort', 'Gare de Royan'), ('Gare de Niort', 'Gare de La Rochelle-Ville'), ('Gare de Bressuire', 'Gare de Saumur'), ('Gare de Bressuire', 'Gare de Thouars'), ('Gare de Saumur', 'Gare de La Roche-sur-Yon'), ('Gare de Saumur', 'Gare de Angers-St-Laud'), ('Gare de Saumur', \"Gare de Les Sables-d'Olonne\"), ('Gare de Saumur', 'Gare de Thouars'), ('Gare de Thouars', 'Gare de Angers-St-Laud'), ('Gare de La Roche-sur-Yon', 'Gare de La Rochelle-Ville'), ('Gare de La Roche-sur-Yon', 'Gare de Chantonnay'), ('Lyon-Part-Dieu-Gare-Rou', 'Grenoble-Gare-Routière'), ('Lyon-Part-Dieu-Gare-Rou', 'Roanne-Gare-Routière'), ('Lyon-Part-Dieu-Gare-Rou', 'Gare de Bonneville'), ('Lyon-Part-Dieu-Gare-Rou', 'Gare de Oyonnax'), ('Lyon-Part-Dieu-Gare-Rou', 'Morez Lycée'), ('Lyon-Part-Dieu-Gare-Rou', 'Bourg-en-Bresse Gare R'), ('Lyon-Part-Dieu-Gare-Rou', 'Gare de Ambérieu-en-Bugey'), ('Gare de Valence-TGV', 'Grenoble-Gare-Routière'), ('Gare de Valence-TGV', 'Gare de Luc-en-Diois'), ('Grenoble-Gare-Routière', 'Valence-Gare-Routière'), ('Grenoble-Gare-Routière', 'Annonay-Gare-Route'), ('Grenoble-Gare-Routière', 'Montélimar-G-Routière'), ('Grenoble-Gare-Routière', 'Gare de Moûtiers-Salins-Brides'), ('Grenoble-Gare-Routière', 'Aubenas-Pl.-de-la-Paix'), ('Grenoble-Gare-Routière', 'Privas-Cours-du-Palais'), ('Grenoble-Gare-Routière', 'Clelles-Mairie'), ('Grenoble-Gare-Routière', 'Gare de Vif'), ('Grenoble-Gare-Routière', 'Gare de Clelles-Mens'), ('Valence-Gare-Routière', 'Gare de Die'), ('Valence-Gare-Routière', 'Gare de Luc-en-Diois'), ('Valence-Gare-Routière', 'Privas-Cours-du-Palais'), ('Gare de St-André-le-Gaz', 'Lyon-Perrache-Gare-Rout'), ('Gare de St-André-le-Gaz', 'Gare de Grenoble U.-Gières'), ('Lyon-Perrache-Gare-Rout', 'Vienne-Gare-Routière'), ('Lyon-Perrache-Gare-Rout', 'Gare de Villefranche-sur-Saône'), ('Lyon-Perrache-Gare-Rout', 'Roanne-Gare-Routière'), ('Lyon-St-Paul-Quai-Bondy', 'Gare de Sain-Bel'), ('Annonay-Gare-Route', \"St-Martin-d'Hères\"), ('Privas-Cours-du-Palais', \"St-Martin-d'Hères\"), ('Montélimar-G-Routière', \"St-Martin-d'Hères\"), ('Gare de Moûtiers-Salins-Brides', \"Gare de St-Pierre-d'Albigny\"), ('Aubenas-Pl.-de-la-Paix', \"St-Martin-d'Hères\"), ('Bourg-en-Bresse Gare R', 'Gare de Mâcon-Loché-TGV'), ('Bourg-en-Bresse Gare R', 'Gare de Ambérieu-en-Bugey'), ('Gare de St-Brieuc', 'Gare de Lannion'), ('Gare de Franois', 'Gare de St-Vit'), ('Gare de Auxonne', 'Gare de Villers-les-Pots'), ('Gare de Ambérieu-en-Bugey', 'Gare de St-Rambert-en-Bugey'), ('Gare de Ambérieu-en-Bugey', 'Gare de Virieu-le-Grand-Belley'), ('Gare de Ambérieu-en-Bugey', 'Gare de St-Etienne-Châteaucreux'), ('Gare de Ambérieu-en-Bugey', 'Gare de Givors-Ville'), ('Gare de Boën', 'Noirétable'), ('Gare de Boën', 'Gare de Montbrison'), ('Gare de Boën', 'Gare de St-Etienne-Châteaucreux'), ('Noirétable', 'Gare de Montbrison'), ('Gare de Montbrison', 'Gare de St-Etienne-Châteaucreux'), ('Gare de La Tour-du-Pin', 'Gare de Rives'), ('Gare de Sain-Bel', 'Lyon-St-Paul-la-Feuilée'), ('Gare de Sain-Bel', 'Gare de Lyon-St-Paul'), ('Argentine', \"Gare de St-Pierre-d'Albigny\"), (\"Gare de St-Pierre-d'Albigny\", 'Gare de Epierre-St-Léger'), (\"Gare de St-Pierre-d'Albigny\", 'Gare de St-Jean-de-Maurienne-A.'), ('Gare de St-Priest', 'St-Pierre-de-Chandieu-R'), ('Gare de Villefranche-sur-Saône', 'Gare de Vienne'), ('Gare de Rives', 'Gare de Grenoble U.-Gières'), ('Gare de Epierre-St-Léger', 'Gare de Montmélian'), ('Gare de Sérézin', 'Ternay-Barbières'), ('Gare de Sérézin', 'Communay-Stade'), ('Gare de St-Jean-de-Maurienne-A.', 'Aiton-Salle-Polyvalente'), ('Droué (Centre)', 'Gare de Courtalain-St-Pellerin'), ('Droué (Centre)', 'Courtalain-Centre'), ('Droué (Centre)', 'Gare de Brou'), ('Chartres-Gare-Routière', 'Gare de Brou'), ('Chartres-Gare-Routière', 'Gare de Vendôme'), ('Chartres-Gare-Routière', 'Gare de Châteaudun'), ('Gare de Vendôme', 'Mondoubleau-Rue-Leroy'), ('Gare de Vendôme', 'Gare de Châteaudun'), ('Aubigny-sur-Nere-Mail', 'Gare de Gien'), ('Gare de Gien', 'Montargis-OT'), ('Gare de Cosne-sur-Loire', 'Sancerre-Porte-Cesar'), ('Gare de Cosne-sur-Loire', 'Gare de Nevers-Le-Banlay'), ('Bourges-Gare-Routière', 'nan'), ('Châteauroux Gare Rout.', 'Issoudun-Jardin'), ('Châteauroux Gare Rout.', 'Poitiers-Gare-Routière'), ('Châteauroux Gare Rout.', 'Gare de Argenton-sur-Creuse'), ('Châteauroux Gare Rout.', 'Gare de Eguzon'), ('Châteauroux Gare Rout.', 'Issoudun-Place-de-la-G.'), ('Châteauroux Gare Rout.', 'Buzançais'), ('Châteauroux Gare Rout.', 'Chatillon-Mail'), ('Châteauroux Gare Rout.', 'Gare de Loches'), ('Poitiers-Gare-Routière', 'Le-Blanc-Pl-du-Bateau'), ('Gare de Nouan-le-Fuzelier', 'Romorantin-BA-G.R.'), ('Romorantin-BA-G.R.', 'Chaumont-sur-Tharonne'), ('Romorantin-BA-G.R.', 'Gare de Lamotte-Beuvron'), ('Romorantin-BA-G.R.', 'Gare de Thesee'), ('Romorantin-BA-G.R.', 'St-Aignan-Lep'), ('Romorantin-BA-G.R.', 'St-Aignan-Pl-Wilson'), ('Romorantin-BA-G.R.', 'Vierzon-Médiathèque'), ('Gare de Lamotte-Beuvron', 'Romorantin-Lycée-de-F'), ('Châteauroux-Ly-B-Pascal', 'Gare de Eguzon'), ('Châteauroux-Ly-B-Pascal', 'Gare de Argenton-sur-Creuse'), ('Châteauroux-Ly-B-Pascal', 'Buzançais'), ('Gare de Argenton-sur-Creuse', 'Châteauroux-Lycée-Agric'), ('Gare de Argenton-sur-Creuse', 'Gare de Limoges-Bénédictins'), ('Gare de Loches', 'Clion-sur-Indre'), ('Gare de Loches', 'Gare de Montbazon'), ('Gare de Loches', 'Gare de Cormery'), ('Gare de Loches', 'TOURS LYCEE GRANDMONT'), ('Gare de Loches', 'Gare de Esvres'), ('Gare de Loches', 'Truyes-Pl-Du-Souvenir'), ('Chatillon-Mail', 'Châteauroux-Charmilles'), ('Chatillon-Mail', 'Châteauroux-L-Giraudoux'), ('Gare de Cormery', 'Gare de La Douzillère'), ('Gare de Cormery', 'Chambourg-Chopin'), ('Gare de La Douzillère', 'Gare de Veigné'), ('Gare de La Douzillère', 'Gare de Esvres'), ('Loches-Lycee-St-Denis', 'Truyes-St-Blaise'), ('Truyes-Pl-Du-Souvenir', 'Loches-LEP'), ('Gare de Châteaudun', 'Gare de Dourdan'), ('Gare de Châteaudun', 'Gare de Voves'), ('Gare de Dourdan', 'Châteaudun-LEP-Paulsen'), ('Gare de Château-Renault', 'Gare de Vendôme-Villiers-s-Loir'), ('Gare de Lunéville', 'Rambervillers (11 Nov)'), ('Gare de Lunéville', 'Moyen'), ('Gare de Lunéville', 'Rambervillers'), ('Gare de Lunéville', 'Gare de Epernay'), ('Rambervillers (11 Nov)', 'Luneville-LP'), ('Rambervillers (11 Nov)', 'Lunéville (Cité Scolai)'), ('Lunéville (Cité Scolai)', 'Rambervillers'), ('Gare de Remiremont', 'Gérardmer La Mauselaine'), ('Gare de Remiremont', 'Bussang (Gare SNCF)'), ('Gare de Remiremont', 'Bresse-Claudel (la)'), ('Gare de Remiremont', 'La-Bresse (Pl Champtel)'), ('Gare de Remiremont', 'La Bresse Le Lispach'), ('Gare de Marle-sur-Serre', 'Lugny'), ('BarentonÂ\\xa0Cel', 'Gare de Verneuil-sur-Serre'), ('Gare de Verneuil-sur-Serre', 'Barenton-sur-Serre'), ('Gare de Ventimiglia-Stazione', 'Gare de Grasse'), ('Gare de Ventimiglia-Stazione', 'Gare de Cannes-la-Bocca'), ('Gare de Ventimiglia-Stazione', 'Gare de Cannes'), ('Gare de Ventimiglia-Stazione', 'Gare de Menton'), ('Gare de Ventimiglia-Stazione', 'Gare de Monaco-Monte-Carlo'), ('Gare de Grasse', 'Gare de Menton'), ('Gare de Grasse', 'Gare de Monaco-Monte-Carlo'), ('Gare de Grasse', 'Gare de Cannes'), ('Gare de Grasse', 'Gare de Antibes'), ('Gare de Menton', 'Gare de Cannes-la-Bocca'), ('Gare de Menton', 'Gare de Cannes'), ('Gare de Cannes-la-Bocca', 'Gare de Monaco-Monte-Carlo'), ('Gare de Monaco-Monte-Carlo', 'Gare de Cannes'), ('Gare de Cannes', 'Gare de St-Raphaël-Valescure'), ('Gare de Luxembourg', 'Gare de Rodange'), ('Gare de Luxembourg', 'Gare de Bettembourg'), ('Gare de Perpignan', 'Gare de Port-Bou'), ('Gare de Perpignan', 'Gare de Cerbère'), ('Gare de Perpignan', 'Gare de Narbonne'), ('Gare de Perpignan', 'Gare de Montpellier-Saint-Roch'), ('Gare de Port-Bou', 'Gare de Narbonne'), ('Gare de Port-Bou', 'Gare de Montpellier-Saint-Roch'), ('Gare de Narbonne', 'Gare de Castelnaudary'), ('Gare de Narbonne', 'Gare de Lunel'), ('Gare de Narbonne', 'Gare de Montpellier-Saint-Roch'), ('Gare de Narbonne', 'Gare de Cerbère'), ('Gare de Montpellier-Saint-Roch', 'Gare de Sète'), ('Gare de Montpellier-Saint-Roch', 'Gare de Lunel'), ('Gare de Montpellier-Saint-Roch', 'Gare de Cerbère'), ('Gare de Offenburg', 'Gare de Kehl'), ('Gare de Thann-Saint-Jacques', 'Gare de Mulhouse-Gare-Centrale'), ('Gare de Bayonne', 'Gare de Puyoô'), ('Gare de Bayonne', 'Gare de St-Jean-Pied-de-Port'), ('Gare de Bayonne', 'Gare de Cambo-les-Bains'), ('Gare de Bayonne', 'Gare de Morcenx'), ('Gare de Bayonne', 'Gare de Dax'), ('Gare de Bayonne', 'Gare de Hendaye'), ('Gare de Bayonne', 'Gare de Tarbes'), ('Gare de Mont-de-Marsan', 'Gare de Morcenx'), ('Gare de Mont-de-Marsan', 'Gare de Bordeaux-St-Jean'), ('Gare de Morcenx', 'Gare de Bordeaux-St-Jean'), ('Gare de Bordeaux-St-Jean', 'Gare de Lesparre'), ('Gare de Bordeaux-St-Jean', 'Gare de Le-Verdon'), ('Gare de Bordeaux-St-Jean', 'Gare de Dax'), ('Gare de Bordeaux-St-Jean', 'Gare de Langon'), ('Gare de Bordeaux-St-Jean', 'Gare de Saintes'), ('Gare de Bordeaux-St-Jean', 'Gare de La-Rochelle-Pt-Dauphine'), ('Gare de Bordeaux-St-Jean', 'Gare de La Rochelle-Ville'), ('Gare de Bordeaux-St-Jean', 'Gare de Angoulême'), ('Gare de Bordeaux-St-Jean', 'Gare de Libourne'), ('Gare de Bordeaux-St-Jean', 'Gare de Coutras'), ('Gare de Bordeaux-St-Jean', 'Gare de St-Mariens-St-Yzan'), ('Gare de Bordeaux-St-Jean', 'Gare de Périgueux'), ('Gare de Bordeaux-St-Jean', 'Gare de Condat-le-Lardin'), ('Gare de Bordeaux-St-Jean', 'Gare de Limoges-Bénédictins'), ('Gare de Bordeaux-St-Jean', 'Gare de Bergerac'), ('Gare de Bordeaux-St-Jean', 'Gare de Sarlat'), ('Gare de Bordeaux-St-Jean', 'Gare de Le Buisson'), ('Gare de Bordeaux-St-Jean', 'Gare de Pauillac'), ('Gare de Bordeaux-St-Jean', 'Gare de Macau'), ('Gare de Bordeaux-St-Jean', 'Gare de Arcachon'), ('Gare de Bordeaux-St-Jean', 'Gare de Biganos-Facture'), ('Gare de Bordeaux-St-Jean', 'Gare de Hendaye'), ('Gare de Bordeaux-St-Jean', 'Gare de Marmande'), ('Gare de Bordeaux-St-Jean', 'Gare de Tarbes'), ('Gare de Bordeaux-St-Jean', 'Gare de Lourdes'), ('Gare de Lesparre', 'Gare de Pauillac'), ('Gare de Lesparre', 'Gare de Pessac'), ('Gare de Dax', 'Gare de Lourdes'), ('Gare de Dax', 'Gare de Tarbes'), ('Gare de Dax', 'Gare de Hendaye'), ('Gare de Lourdes', 'Gare de Tarbes'), ('Gare de Arcachon', 'Gare de Biganos-Facture'), ('Gare de Périgueux', 'Gare de Limoges-Bénédictins'), ('Gare de Périgueux', 'Gare de Condat-le-Lardin'), ('Gare de Périgueux', 'Gare de Mussidan'), ('Gare de Périgueux', 'Gare de Le Buisson'), ('Gare de Périgueux', 'Gare de Monsempron-Libos'), ('Gare de Bedous', 'Gare de Oloron-Ste-Marie'), ('Gare de Bergerac', 'Gare de Libourne'), ('Gare de Bergerac', 'Gare de Sarlat'), ('Gare de Libourne', 'Gare de St-Emilion'), ('Gare de Commentry', 'Gare de Vallon-en-Sully'), ('Gare de Firminy', 'Gare de St-Etienne-Châteaucreux'), ('Gare de Is-sur-Tille', 'Gare de Dijon-Porte-Neuve'), ('Gare de Is-sur-Tille', 'Gare de Les Laumes-Alésia'), ('Gare de Messac-Guipry', 'Gare de Vannes'), ('Gare de Vannes', 'Gare de Quimper'), ('Gare de Redon', 'Gare de Beslé'), ('Gare de Quimper', 'Gare de Brest'), ('Gare de Quimper', 'Gare de Landerneau'), ('Gare de Brest', 'Gare de Morlaix'), ('Gare de Brest', 'Gare de La Forest'), ('Gare de Brest', 'Gare de Landerneau'), ('Gare de Brest', 'Gare de Lannion'), ('Gare de Lannion', 'Gare de Guingamp'), ('Gare de Lannion', 'Gare de Plouaret-Trégor'), ('Gare de Guingamp', 'Gare de Carhaix'), ('Gare de Guingamp', 'Gare de Callac'), ('Gare de Guingamp', 'Gare de Paimpol'), ('Gare de Carhaix', 'Gare de Callac'), ('Gare de Châteauroux', 'Gare de Limoges-Bénédictins'), ('Gare de Sedan', 'Gare de Rethel'), ('Gare de Sedan', 'Gare de Champagne-Ardenne'), ('Gare de Laon', 'Gare de Crépy-en-Valois'), ('Gare de Château-Thierry', 'Gare de Paris-Est'), ('Gare de Dormans', 'Gare de Epernay'), ('Gare de Epernay', 'Gare de Paris-Est'), ('Gare de Culmont-Chalindrey', 'Gare de Paris-Est'), ('Gare de Le Grau-du-Roi', 'Gare de Vauvert'), ('Gare de Limoges-Bénédictins', 'Gare de Le Dorat'), ('Gare de Limoges-Bénédictins', 'Gare de Saillat-Chassenon'), ('Gare de Limoges-Bénédictins', 'Gare de Nexon'), ('Gare de Limoges-Bénédictins', 'Gare de St-Junien'), ('Gare de Limoges-Bénédictins', 'Gare de St-Yrieix-la-Perche'), ('Gare de Limoges-Bénédictins', 'Gare de Eymoutiers-Vassiviere'), ('Gare de Limoges-Bénédictins', 'Gare de La Souterraine'), ('Gare de St-Yrieix-la-Perche', 'Pompadour'), ('Pompadour', 'Gare de Nexon'), ('Pompadour', 'Gare de Objat'), ('Gare de St-Sulpice (Tarn)', 'Gare de Castres'), ('Gare de Auch', \"Gare de L'Isle-Jourdain (Gers)\"), ('Gare de Auch', 'Gare de Colomiers'), (\"Gare de L'Isle-Jourdain (Gers)\", 'Gare de Colomiers'), (\"Gare de L'Isle-Jourdain (Gers)\", 'Gare de Saint-Cyprien-Arènes'), ('Gare de Colomiers', 'Gare de Saint-Cyprien-Arènes'), ('Gare de Montauban-Ville-Bourbon', 'Gare de Cahors'), ('Gare de Rang du Fl. Verton Ber.', 'Gare de Lille Europe'), ('Gare de Valenciennes', 'Gare de Jeumont'), ('Gare de Dunkerque', 'Gare de Lille Europe'), ('Gare de La Rochelle-Ville', 'Gare de Saintes'), ('Gare de La Rochelle-Ville', 'Gare de St-Mariens-St-Yzan'), ('Gare de La Rochelle-Ville', 'Gare de La-Rochelle-Pt-Dauphine'), ('Gare de La Rochelle-Ville', 'Gare de Rochefort'), ('Gare de La Rochelle-Ville', 'Gare de Angoulême'), ('Gare de Angers-St-Laud', 'Gare de Sablé-sur-Sarthe'), ('Gare de Abancourt', 'Le Tréport-Mers-Les-B'), ('Gare de Angoulême', 'Gare de Saintes'), ('Gare de Angoulême', 'Gare de Royan'), ('Gare de Angoulême', 'Gare de La-Rochelle-Pt-Dauphine'), ('Gare de Angoulême', 'Gare de Coutras'), ('Gare de Saintes', 'Gare de La-Rochelle-Pt-Dauphine'), ('Gare de Saintes', 'Gare de Royan'), ('Gare de La-Rochelle-Pt-Dauphine', 'Gare de Rochefort'), ('Gare de Toulon', 'Gare de Hyères'), ('Gare de Toulon', 'Gare de Carnoules'), ('Aix-Gare-Routière', 'Gare de Gardanne'), ('Gare de Lutterbach Tram-train', 'Gare de Mulhouse-Gare-Centrale'), ('Gare de Elbeuf-St-Aubin', 'Gare de Yvetot'), ('Gare de Pessac', 'Gare de Macau'), ('Gare de Lunel', 'Gare de Sète'), ('Gare de Avignon-TGV', 'Gare de Carpentras'), ('Gare de Aubagne', 'Gare de Marseille-Blancarde'), ('Gare de Grenoble U.-Gières', 'Gare de St-Marcellin'), ('Gare de St-Etienne-Châteaucreux', 'Gare de Roanne'), ('Gare de St-Etienne-Châteaucreux', 'Gare de Bas-Monistrol'), ('Gare de Lyon-St-Paul', \"Gare de L'Arbresle\"), ('Gare de Lyon-St-Paul', 'Gare de Brignais')])"
      ]
     },
     "execution_count": 6,
     "metadata": {},
     "output_type": "execute_result"
    }
   ],
   "source": [
    "G_gares = nx.from_pandas_edgelist(datas, source=\"departures\", target=\"destinations\", edge_attr='weight')\n",
    "G_gares.edges()"
   ]
  },
  {
   "cell_type": "code",
   "execution_count": 7,
   "id": "2230d015",
   "metadata": {},
   "outputs": [
    {
     "name": "stdout",
     "output_type": "stream",
     "text": [
      "['Gare de Paris-St-Lazare', 'Gare de Rouen-Rive-Droite', 'Gare de Lille Flandres']\n",
      "97\n",
      "168\n",
      "265\n"
     ]
    }
   ],
   "source": [
    "court_chemin_array = nx.shortest_path(G_gares)\n",
    "Lille_Paris = court_chemin_array[\"Gare de Paris-St-Lazare\"][\"Gare de Lille Flandres\"]\n",
    "print(Lille_Paris)\n",
    "time_list = []\n",
    "for index, elem in enumerate(Lille_Paris):\n",
    "    if index+1 == len(Lille_Paris):\n",
    "        break;\n",
    "#         prev_el = str(Lille[index-1])\n",
    "    curr_el = elem\n",
    "    next_el = Lille_Paris[index+1]\n",
    "    \n",
    "    time = nx.path_weight(G_gares, [curr_el, next_el], weight=\"weight\")\n",
    "    time_list.append(time)\n",
    "    print(time)\n",
    "    \n",
    "\n",
    "print(sum(time_list))  "
   ]
  },
  {
   "cell_type": "code",
   "execution_count": 8,
   "id": "f1d7b906",
   "metadata": {},
   "outputs": [
    {
     "ename": "NetworkXNoPath",
     "evalue": "path does not exist",
     "output_type": "error",
     "traceback": [
      "\u001b[1;31m---------------------------------------------------------------------------\u001b[0m",
      "\u001b[1;31mNetworkXNoPath\u001b[0m                            Traceback (most recent call last)",
      "\u001b[1;32m<ipython-input-8-2b61ed384508>\u001b[0m in \u001b[0;36m<module>\u001b[1;34m\u001b[0m\n\u001b[1;32m----> 1\u001b[1;33m \u001b[0mnx\u001b[0m\u001b[1;33m.\u001b[0m\u001b[0mpath_weight\u001b[0m\u001b[1;33m(\u001b[0m\u001b[0mG_gares\u001b[0m\u001b[1;33m,\u001b[0m \u001b[1;33m[\u001b[0m\u001b[1;34m'Gare de Lille Flandres'\u001b[0m\u001b[1;33m,\u001b[0m \u001b[1;34m'Gare de Paris-St-Lazare'\u001b[0m\u001b[1;33m]\u001b[0m\u001b[1;33m,\u001b[0m \u001b[0mweight\u001b[0m\u001b[1;33m=\u001b[0m\u001b[1;34m\"weight\"\u001b[0m\u001b[1;33m)\u001b[0m\u001b[1;33m\u001b[0m\u001b[1;33m\u001b[0m\u001b[0m\n\u001b[0m",
      "\u001b[1;32m~\\anaconda3\\lib\\site-packages\\networkx\\classes\\function.py\u001b[0m in \u001b[0;36mpath_weight\u001b[1;34m(G, path, weight)\u001b[0m\n\u001b[0;32m   1287\u001b[0m \u001b[1;33m\u001b[0m\u001b[0m\n\u001b[0;32m   1288\u001b[0m     \u001b[1;32mif\u001b[0m \u001b[1;32mnot\u001b[0m \u001b[0mnx\u001b[0m\u001b[1;33m.\u001b[0m\u001b[0mis_path\u001b[0m\u001b[1;33m(\u001b[0m\u001b[0mG\u001b[0m\u001b[1;33m,\u001b[0m \u001b[0mpath\u001b[0m\u001b[1;33m)\u001b[0m\u001b[1;33m:\u001b[0m\u001b[1;33m\u001b[0m\u001b[1;33m\u001b[0m\u001b[0m\n\u001b[1;32m-> 1289\u001b[1;33m         \u001b[1;32mraise\u001b[0m \u001b[0mnx\u001b[0m\u001b[1;33m.\u001b[0m\u001b[0mNetworkXNoPath\u001b[0m\u001b[1;33m(\u001b[0m\u001b[1;34m\"path does not exist\"\u001b[0m\u001b[1;33m)\u001b[0m\u001b[1;33m\u001b[0m\u001b[1;33m\u001b[0m\u001b[0m\n\u001b[0m\u001b[0;32m   1290\u001b[0m     \u001b[1;32mfor\u001b[0m \u001b[0mnode\u001b[0m\u001b[1;33m,\u001b[0m \u001b[0mnbr\u001b[0m \u001b[1;32min\u001b[0m \u001b[0mnx\u001b[0m\u001b[1;33m.\u001b[0m\u001b[0mutils\u001b[0m\u001b[1;33m.\u001b[0m\u001b[0mpairwise\u001b[0m\u001b[1;33m(\u001b[0m\u001b[0mpath\u001b[0m\u001b[1;33m)\u001b[0m\u001b[1;33m:\u001b[0m\u001b[1;33m\u001b[0m\u001b[1;33m\u001b[0m\u001b[0m\n\u001b[0;32m   1291\u001b[0m         \u001b[1;32mif\u001b[0m \u001b[0mmultigraph\u001b[0m\u001b[1;33m:\u001b[0m\u001b[1;33m\u001b[0m\u001b[1;33m\u001b[0m\u001b[0m\n",
      "\u001b[1;31mNetworkXNoPath\u001b[0m: path does not exist"
     ]
    }
   ],
   "source": [
    "nx.path_weight(G_gares, ['Gare de Lille Flandres', 'Gare de Paris-St-Lazare'], weight=\"weight\")"
   ]
  },
  {
   "cell_type": "code",
   "execution_count": 10,
   "id": "eb39e635",
   "metadata": {},
   "outputs": [],
   "source": [
    "END = '0e8ed89a-47ba-4cdb-938e-b8af8e084d5c'\n",
    "\n",
    "# Text attributes\n",
    "ALL_OFF = '\\033[0m'\n",
    "BOLD = '\\033[1m'\n",
    "FG_RED = '\\033[31m'\n",
    "class pretty_output():\n",
    "    '''\n",
    "    Context manager for pretty terminal prints\n",
    "    '''\n",
    "\n",
    "    def __init__(self, *attr):\n",
    "        self.attributes = attr\n",
    "\n",
    "    def __enter__(self):\n",
    "        return self\n",
    "\n",
    "    def __exit__(self, type, value, traceback):\n",
    "        pass\n",
    "\n",
    "    def write(self, msg):\n",
    "        style = ''.join(self.attributes)\n",
    "        print('{}{}{}'.format(style, msg.replace(END, ALL_OFF + style), ALL_OFF))"
   ]
  },
  {
   "cell_type": "code",
   "execution_count": null,
   "id": "eb736f24",
   "metadata": {},
   "outputs": [],
   "source": []
  },
  {
   "cell_type": "code",
   "execution_count": 11,
   "id": "9718b9e8",
   "metadata": {},
   "outputs": [
    {
     "data": {
      "text/plain": [
       "(['Gare de Lille Flandres', 'Gare de Lille Europe'],\n",
       " ['Gare de Paris-St-Lazare',\n",
       "  'Gare de Paris-Montp.3-Vaug.',\n",
       "  'Gare de Paris-Montparnasse 1-2',\n",
       "  'Gare de Paris-Austerlitz',\n",
       "  'Gare de Paris-Bercy',\n",
       "  'Gare de Paris-Gare-de-Lyon',\n",
       "  'Gare de Paris Gare du Nord',\n",
       "  'Gare de Paris-Est'])"
      ]
     },
     "execution_count": 11,
     "metadata": {},
     "output_type": "execute_result"
    }
   ],
   "source": [
    "def checkDestination(dep, dest, first, second):\n",
    "    dep = dep.capitalize()\n",
    "    dest = dest.capitalize()\n",
    "    for u in G_gares.nodes():\n",
    "        first.append(u)\n",
    "    for v in G_gares.nodes():\n",
    "        second.append(v)\n",
    "        \n",
    "    allee = list(filter(lambda x: dep in x, first))\n",
    "    \n",
    "    arrivee = list(filter(lambda x: dest in x, second))\n",
    "\n",
    "    return (allee, arrivee)\n",
    "checkDestination(\"lille\", \"Paris\", [], [])"
   ]
  },
  {
   "cell_type": "code",
   "execution_count": 55,
   "id": "8f82ab8e",
   "metadata": {},
   "outputs": [
    {
     "data": {
      "text/plain": [
       "['Gare de Lille Flandres',\n",
       " 'Gare de Rouen-Rive-Droite',\n",
       " 'Gare de Paris-St-Lazare']"
      ]
     },
     "execution_count": 55,
     "metadata": {},
     "output_type": "execute_result"
    }
   ],
   "source": [
    "def getAvailableShortPath(departure, destination):\n",
    "    \n",
    "    departure_list = []\n",
    "    destination_list = []\n",
    "    #vérification si le départ ou l'arrivée est bien un mot raisonnable en excluant des mots vides et ceux avec une longueur \n",
    "    # inférieure ou égale à 3\n",
    "    \n",
    "    if departure == \"\" or len(departure) <= 3:\n",
    "        with pretty_output(BOLD, FG_RED) as out:\n",
    "            out.write(\"Désolé Madame/Monsieur, on n'a pas saisi votre lieu de départ, Pouvez-vous réessayer ultérieurement?\")\n",
    "    \n",
    "    elif destination == \"\" or len(destination) <= 3:\n",
    "        with pretty_output(BOLD, FG_RED) as out:\n",
    "            out.write(\"Désolé Madame/Monsieur, on n'a pas saisi votre lieu d'arrivée, Pouvez-vous réessayer ultérieurement?\")\n",
    "    # verifier si le mot inséré est contenue dans l'une des gares qu'on a dans le dataset\n",
    "    \n",
    "    else:\n",
    "        # récupérer tous les gares correspondant au mot inséré\n",
    "        depart, arrivee = checkDestination(departure, destination, departure_list, destination_list)\n",
    "\n",
    "        if len(depart)==0 or len(arrivee)==0:\n",
    "            with pretty_output(BOLD, FG_RED) as out:\n",
    "                out.write(\"Désolé Madame/Monsieur, nous n'avons aucun trajet correspondant à votre demande!\")\n",
    "        \n",
    "        for k in depart:\n",
    "            for l in arrivee:\n",
    "                couple = (k,l)\n",
    "                short_path = nx.shortest_path(G_gares)\n",
    "                court = short_path[couple[0]][couple[1]]\n",
    "                return court\n",
    "#                         with pretty_output(BOLD, FG_RED) as out:\n",
    "#                     out.write(f\"Bonjour Madame/Monsieur, pour aller à {destination.capitalize()}, le plus court chemin d'apres nos trajets est {court}\")\n",
    "            \n",
    "\n",
    "\n",
    "getAvailableShortPath(\"lille\", \"paris\")"
   ]
  },
  {
   "cell_type": "code",
   "execution_count": null,
   "id": "ddf34f50",
   "metadata": {},
   "outputs": [],
   "source": []
  }
 ],
 "metadata": {
  "kernelspec": {
   "display_name": "Python 3",
   "language": "python",
   "name": "python3"
  },
  "language_info": {
   "codemirror_mode": {
    "name": "ipython",
    "version": 3
   },
   "file_extension": ".py",
   "mimetype": "text/x-python",
   "name": "python",
   "nbconvert_exporter": "python",
   "pygments_lexer": "ipython3",
   "version": "3.8.8"
  }
 },
 "nbformat": 4,
 "nbformat_minor": 5
}
